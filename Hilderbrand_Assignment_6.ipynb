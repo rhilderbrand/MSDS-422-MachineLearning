{
  "nbformat": 4,
  "nbformat_minor": 0,
  "metadata": {
    "colab": {
      "name": "Hilderbrand_Assignment_6",
      "provenance": [],
      "collapsed_sections": [],
      "authorship_tag": "ABX9TyPZ6Myh9CvX30gwXtM5trIw",
      "include_colab_link": true
    },
    "kernelspec": {
      "name": "python3",
      "display_name": "Python 3"
    }
  },
  "cells": [
    {
      "cell_type": "markdown",
      "metadata": {
        "id": "view-in-github",
        "colab_type": "text"
      },
      "source": [
        "<a href=\"https://colab.research.google.com/github/rhilderbrand/MSDS-422-MachineLearning/blob/main/Hilderbrand_Assignment_6.ipynb\" target=\"_parent\"><img src=\"https://colab.research.google.com/assets/colab-badge.svg\" alt=\"Open In Colab\"/></a>"
      ]
    },
    {
      "cell_type": "markdown",
      "metadata": {
        "id": "jN5COkhdvbnd"
      },
      "source": [
        "#Assignment 6: Neural Networks\r\n",
        "\r\n",
        "This assignment asks you to fit a number of neural networks, comparing processing time and performance across experimental treatments. Processing time will be recorded for the fitting on the train.csv.  Kaggle.com accuracy scores will be reported for all benchmarks"
      ]
    },
    {
      "cell_type": "markdown",
      "metadata": {
        "id": "LQi2NQq7v0XQ"
      },
      "source": [
        "## System Setup & Data Preparation"
      ]
    },
    {
      "cell_type": "code",
      "metadata": {
        "id": "aOh60fFTo5Ur"
      },
      "source": [
        "# prepare for Python version 3 features and functions\r\n",
        "from __future__ import division, print_function, unicode_literals\r\n",
        "\r\n",
        "# import common packages\r\n",
        "import pandas as pd\r\n",
        "import numpy as np\r\n",
        "import os\r\n",
        "\r\n",
        "# import TensorFlow\r\n",
        "import tensorflow as tf\r\n",
        "\r\n",
        "#suppress tf.logging\r\n",
        "import logging\r\n",
        "logging.getLogger('tensorflow').disabled = True\r\n",
        "\r\n",
        "# for visualization\r\n",
        "%matplotlib inline\r\n",
        "import matplotlib\r\n",
        "import matplotlib.pyplot as plt\r\n",
        "import seaborn as sns"
      ],
      "execution_count": 44,
      "outputs": []
    },
    {
      "cell_type": "code",
      "metadata": {
        "colab": {
          "base_uri": "https://localhost:8080/"
        },
        "id": "nmqYxARAxYjA",
        "outputId": "360e10bf-0a2c-42d2-e6d5-2869c60ec104"
      },
      "source": [
        "# split data into train and test sets\r\n",
        "(X_train, y_train), (X_test, y_test) = tf.keras.datasets.mnist.load_data()\r\n",
        "X_train = X_train.astype(np.float32).reshape(-1, 28*28) / 255.0\r\n",
        "X_test = X_test.astype(np.float32).reshape(-1, 28*28) / 255.0\r\n",
        "y_train = y_train.astype(np.int32)\r\n",
        "y_test = y_test.astype(np.int32)"
      ],
      "execution_count": 3,
      "outputs": [
        {
          "output_type": "stream",
          "text": [
            "Downloading data from https://storage.googleapis.com/tensorflow/tf-keras-datasets/mnist.npz\n",
            "11493376/11490434 [==============================] - 0s 0us/step\n"
          ],
          "name": "stdout"
        }
      ]
    },
    {
      "cell_type": "code",
      "metadata": {
        "colab": {
          "base_uri": "https://localhost:8080/"
        },
        "id": "ded0U2k4zRV7",
        "outputId": "e3c4e38d-8802-41cb-b729-1eada2359216"
      },
      "source": [
        "# check data splits for test and train\r\n",
        "print(X_train.shape)\r\n",
        "print(X_test.shape)\r\n",
        "print(y_train.shape)\r\n",
        "print(y_test.shape)"
      ],
      "execution_count": 6,
      "outputs": [
        {
          "output_type": "stream",
          "text": [
            "(60000, 784)\n",
            "(10000, 784)\n",
            "(60000,)\n",
            "(10000,)\n"
          ],
          "name": "stdout"
        }
      ]
    },
    {
      "cell_type": "markdown",
      "metadata": {
        "id": "tS-QANdM4e7d"
      },
      "source": [
        "##Model 1 - 2 layers 10 nodes per layer\r\n",
        "\r\n",
        "**Processing Time:** 139 s\r\n",
        "\r\n",
        "**Training Set Accuracy:** 0.8556\r\n",
        "\r\n",
        "**Test Set Accuracy:** 0.8577"
      ]
    },
    {
      "cell_type": "code",
      "metadata": {
        "colab": {
          "base_uri": "https://localhost:8080/"
        },
        "id": "vMHKgC_m4T8Y",
        "outputId": "17256c13-2cf4-4c44-91ea-3a15166fb014"
      },
      "source": [
        "%%time\r\n",
        "feature_cols = [tf.feature_column.numeric_column(\"X\", shape=[28 * 28])]\r\n",
        "dnn_clf_1 = tf.estimator.DNNClassifier(hidden_units=[10,10], n_classes=10,\r\n",
        "                                     feature_columns=feature_cols)\r\n",
        "\r\n",
        "input_fn_1 = tf.compat.v1.estimator.inputs.numpy_input_fn(\r\n",
        "    x={\"X\": X_train}, y=y_train, num_epochs=50, batch_size=50, shuffle=True)\r\n",
        "dnn_clf_1.train(input_fn=input_fn_1)"
      ],
      "execution_count": 36,
      "outputs": [
        {
          "output_type": "stream",
          "text": [
            "CPU times: user 2min 12s, sys: 7.44 s, total: 2min 19s\n",
            "Wall time: 1min 29s\n"
          ],
          "name": "stdout"
        }
      ]
    },
    {
      "cell_type": "code",
      "metadata": {
        "colab": {
          "base_uri": "https://localhost:8080/"
        },
        "id": "7PF1ACDn-2ng",
        "outputId": "3299f11e-efa5-4a24-ecb1-c4f7bed5821a"
      },
      "source": [
        "# evaluate training accuracy\r\n",
        "train_1_input_fn = tf.compat.v1.estimator.inputs.numpy_input_fn(\r\n",
        "    x={\"X\": X_train}, y=y_train, shuffle=False)\r\n",
        "eval_results_train_1 = dnn_clf_2a.evaluate(input_fn=train_1_input_fn)\r\n",
        "eval_results_train_1"
      ],
      "execution_count": 37,
      "outputs": [
        {
          "output_type": "execute_result",
          "data": {
            "text/plain": [
              "{'accuracy': 0.87505,\n",
              " 'average_loss': 0.44945464,\n",
              " 'global_step': 120000,\n",
              " 'loss': 0.44948}"
            ]
          },
          "metadata": {
            "tags": []
          },
          "execution_count": 37
        }
      ]
    },
    {
      "cell_type": "code",
      "metadata": {
        "colab": {
          "base_uri": "https://localhost:8080/"
        },
        "id": "UR_DYEH8_Lb0",
        "outputId": "53286191-1f4f-492c-9f6d-1aee827aabcb"
      },
      "source": [
        "# evalute test accuracy\r\n",
        "test_1_input_fn = tf.compat.v1.estimator.inputs.numpy_input_fn(\r\n",
        "    x={\"X\": X_test}, y=y_test, shuffle=False)\r\n",
        "eval_results_test_1 = dnn_clf_1.evaluate(input_fn=test_1_input_fn)\r\n",
        "eval_results_test_1"
      ],
      "execution_count": 38,
      "outputs": [
        {
          "output_type": "execute_result",
          "data": {
            "text/plain": [
              "{'accuracy': 0.8703,\n",
              " 'average_loss': 0.47740436,\n",
              " 'global_step': 60000,\n",
              " 'loss': 0.47595558}"
            ]
          },
          "metadata": {
            "tags": []
          },
          "execution_count": 38
        }
      ]
    },
    {
      "cell_type": "code",
      "metadata": {
        "colab": {
          "base_uri": "https://localhost:8080/"
        },
        "id": "7-UGFKZJUp8R",
        "outputId": "ef9b6e6f-227c-447f-9c61-54a5fa3873ee"
      },
      "source": [
        "#confusion matrix for Model 1 predictions\r\n",
        "raw_predictions_1 = dnn_clf_1.predict(input_fn=test_1_input_fn)\r\n",
        "predictions_1 = [p['class_ids'][0] for p in raw_predictions_1]\r\n",
        "confusion_matrix_1 = tf.math.confusion_matrix(y_test, predictions_1)\r\n",
        "confusion_matrix_1"
      ],
      "execution_count": 47,
      "outputs": [
        {
          "output_type": "execute_result",
          "data": {
            "text/plain": [
              "<tf.Tensor: shape=(10, 10), dtype=int32, numpy=\n",
              "array([[ 940,    0,   15,    4,    1,   17,    1,    1,    1,    0],\n",
              "       [   0, 1097,    0,    7,    3,    4,    4,    1,   19,    0],\n",
              "       [  20,    1,  832,   26,   32,   28,   25,   13,   51,    4],\n",
              "       [   4,    1,   22,  864,    4,   61,    4,   28,   14,    8],\n",
              "       [   3,    8,   16,    0,  873,    0,    9,    2,   18,   53],\n",
              "       [   9,   10,   16,   69,   11,  674,   11,   12,   68,   12],\n",
              "       [  26,    2,   27,    4,   19,   11,  847,    0,   22,    0],\n",
              "       [   1,   18,   24,   12,   19,    3,    0,  893,    5,   53],\n",
              "       [  11,    5,   14,   13,   13,   43,   14,   13,  826,   22],\n",
              "       [   8,   24,    5,   11,   53,   12,    0,   32,    7,  857]],\n",
              "      dtype=int32)>"
            ]
          },
          "metadata": {
            "tags": []
          },
          "execution_count": 47
        }
      ]
    },
    {
      "cell_type": "code",
      "metadata": {
        "id": "DBK6gWOSZl7s"
      },
      "source": [
        "# https://medium.com/@dtuk81/confusion-matrix-visualization-fc31e3f30fea\r\n",
        "sns.heatmap(confusion_matrix_1, annot=True)"
      ],
      "execution_count": null,
      "outputs": []
    },
    {
      "cell_type": "markdown",
      "metadata": {
        "id": "TjshbPemC5Jp"
      },
      "source": [
        "##Model 2 - 2 layers 20 nodes per layer\r\n",
        "\r\n",
        "**Processing Time:** 137 s\r\n",
        "\r\n",
        "**Training Set Accuracy:** 0.1141\r\n",
        "\r\n",
        "**Test Set Accuracy:** 0.1113"
      ]
    },
    {
      "cell_type": "code",
      "metadata": {
        "colab": {
          "base_uri": "https://localhost:8080/"
        },
        "id": "cgVrVgCOCywz",
        "outputId": "c178cf15-dbe4-40e5-c1f7-45081de2194b"
      },
      "source": [
        "%%time\r\n",
        "feature_cols = [tf.feature_column.numeric_column(\"X\", shape=[28 * 28])]\r\n",
        "dnn_clf_2 = tf.estimator.DNNClassifier(hidden_units=[20,20], n_classes=10,\r\n",
        "                                     feature_columns=feature_cols)\r\n",
        "\r\n",
        "input_fn_2 = tf.compat.v1.estimator.inputs.numpy_input_fn(\r\n",
        "    x={\"X\": X_train}, y=y_train, num_epochs=50, batch_size=50, shuffle=True)\r\n",
        "dnn_clf_2a.train(input_fn=input_fn_2)"
      ],
      "execution_count": 25,
      "outputs": [
        {
          "output_type": "stream",
          "text": [
            "CPU times: user 2min 10s, sys: 7.31 s, total: 2min 17s\n",
            "Wall time: 1min 28s\n"
          ],
          "name": "stdout"
        }
      ]
    },
    {
      "cell_type": "code",
      "metadata": {
        "colab": {
          "base_uri": "https://localhost:8080/"
        },
        "id": "-UBmLk77HvjA",
        "outputId": "820a26c6-2c5f-44ef-e7ba-07a8cb5dc07f"
      },
      "source": [
        "# evaluate training accuracy\r\n",
        "train_2_input_fn = tf.compat.v1.estimator.inputs.numpy_input_fn(\r\n",
        "    x={\"X\": X_train}, y=y_train, shuffle=False)\r\n",
        "eval_results_train_2 = dnn_clf_2.evaluate(input_fn=train_2_input_fn)\r\n",
        "eval_results_train_2"
      ],
      "execution_count": 27,
      "outputs": [
        {
          "output_type": "execute_result",
          "data": {
            "text/plain": [
              "{'accuracy': 0.11411667,\n",
              " 'average_loss': 2.3547013,\n",
              " 'global_step': 0,\n",
              " 'loss': 2.3547351}"
            ]
          },
          "metadata": {
            "tags": []
          },
          "execution_count": 27
        }
      ]
    },
    {
      "cell_type": "code",
      "metadata": {
        "colab": {
          "base_uri": "https://localhost:8080/"
        },
        "id": "Coten8FSIGlc",
        "outputId": "326c9e2e-0223-4002-f3b0-f0e654a11dde"
      },
      "source": [
        "# evalute test accuracy\r\n",
        "test_2_input_fn = tf.compat.v1.estimator.inputs.numpy_input_fn(\r\n",
        "    x={\"X\": X_test}, y=y_test, shuffle=False)\r\n",
        "eval_results_test_2 = dnn_clf_2.evaluate(input_fn=test_2_input_fn)\r\n",
        "eval_results_test_2"
      ],
      "execution_count": 28,
      "outputs": [
        {
          "output_type": "execute_result",
          "data": {
            "text/plain": [
              "{'accuracy': 0.1113,\n",
              " 'average_loss': 2.3078558,\n",
              " 'global_step': 0,\n",
              " 'loss': 2.3081474}"
            ]
          },
          "metadata": {
            "tags": []
          },
          "execution_count": 28
        }
      ]
    },
    {
      "cell_type": "code",
      "metadata": {
        "colab": {
          "base_uri": "https://localhost:8080/"
        },
        "id": "k5d-bRrtYAIq",
        "outputId": "118e9dfb-319c-4ee7-e899-b620f5939304"
      },
      "source": [
        "#confusion matrix for Model 2 predictions\r\n",
        "raw_predictions_2 = dnn_clf_2.predict(input_fn=test_2_input_fn)\r\n",
        "predictions_2 = [p['class_ids'][0] for p in raw_predictions_2]\r\n",
        "confusion_matrix_2 = tf.math.confusion_matrix(y_test, predictions_2)\r\n",
        "confusion_matrix_2"
      ],
      "execution_count": 41,
      "outputs": [
        {
          "output_type": "execute_result",
          "data": {
            "text/plain": [
              "<tf.Tensor: shape=(10, 10), dtype=int32, numpy=\n",
              "array([[637,   0,   7, 281,  10,   0,   0,   0,  12,  33],\n",
              "       [432,   2, 466, 158,  57,   0,   0,   0,   2,  18],\n",
              "       [476,   0,   8, 484,  37,   0,   0,   0,   2,  25],\n",
              "       [593,   0,  23, 278,   0,   0,   0,   2,   1, 113],\n",
              "       [712,   1,  15, 185,  30,   0,   0,   0,   0,  39],\n",
              "       [540,   0,  16, 200,   5,   0,   0,   0,   2, 129],\n",
              "       [482,   0,   3, 456,   7,   0,   0,   0,   1,   9],\n",
              "       [645,   0,  88, 275,   1,   0,   0,   4,   0,  15],\n",
              "       [598,   0,  18, 273,  44,   0,   0,   0,   3,  38],\n",
              "       [693,   0,  46, 211,  27,   0,   0,   1,   0,  31]], dtype=int32)>"
            ]
          },
          "metadata": {
            "tags": []
          },
          "execution_count": 41
        }
      ]
    },
    {
      "cell_type": "markdown",
      "metadata": {
        "id": "mxCuLZX0IWEy"
      },
      "source": [
        "##Model 3 - 5 layers 10 nodes per layer\r\n",
        "\r\n",
        "**Processing Time:** 147 s\r\n",
        "\r\n",
        "**Training Set Accuracy:** 0.77805\r\n",
        "\r\n",
        "**Test Set Accuracy:** 0.785"
      ]
    },
    {
      "cell_type": "code",
      "metadata": {
        "colab": {
          "base_uri": "https://localhost:8080/"
        },
        "id": "WcO0TUWCIdzu",
        "outputId": "5333866e-6f1c-4926-dc0c-6517d9d2dd81"
      },
      "source": [
        "%%time\r\n",
        "feature_cols = [tf.feature_column.numeric_column(\"X\", shape=[28 * 28])]\r\n",
        "dnn_clf_3 = tf.estimator.DNNClassifier(hidden_units=[10,10,10,10,10], n_classes=10,\r\n",
        "                                     feature_columns=feature_cols)\r\n",
        "\r\n",
        "input_fn_3 = tf.compat.v1.estimator.inputs.numpy_input_fn(\r\n",
        "    x={\"X\": X_train}, y=y_train, num_epochs=50, batch_size=50, shuffle=True)\r\n",
        "dnn_clf_3.train(input_fn=input_fn_3)"
      ],
      "execution_count": 29,
      "outputs": [
        {
          "output_type": "stream",
          "text": [
            "CPU times: user 2min 20s, sys: 7.06 s, total: 2min 27s\n",
            "Wall time: 1min 33s\n"
          ],
          "name": "stdout"
        }
      ]
    },
    {
      "cell_type": "code",
      "metadata": {
        "colab": {
          "base_uri": "https://localhost:8080/"
        },
        "id": "5PxzzSriJGKN",
        "outputId": "9bf93716-98f2-4993-8a9e-99f3db8c4265"
      },
      "source": [
        "# evaluate training accuracy\r\n",
        "train_3_input_fn = tf.compat.v1.estimator.inputs.numpy_input_fn(\r\n",
        "    x={\"X\": X_train}, y=y_train, shuffle=False)\r\n",
        "eval_results_train_3 = dnn_clf_3.evaluate(input_fn=train_3_input_fn)\r\n",
        "eval_results_train_3"
      ],
      "execution_count": 30,
      "outputs": [
        {
          "output_type": "execute_result",
          "data": {
            "text/plain": [
              "{'accuracy': 0.77805,\n",
              " 'average_loss': 0.7034688,\n",
              " 'global_step': 60000,\n",
              " 'loss': 0.7035184}"
            ]
          },
          "metadata": {
            "tags": []
          },
          "execution_count": 30
        }
      ]
    },
    {
      "cell_type": "code",
      "metadata": {
        "colab": {
          "base_uri": "https://localhost:8080/"
        },
        "id": "WSFwvKINJSPr",
        "outputId": "2c8d5fc7-9f3b-4338-d58b-481fcce0d234"
      },
      "source": [
        "# evalute test accuracy\r\n",
        "test_3_input_fn = tf.compat.v1.estimator.inputs.numpy_input_fn(\r\n",
        "    x={\"X\": X_test}, y=y_test, shuffle=False)\r\n",
        "eval_results_test_3 = dnn_clf_3.evaluate(input_fn=test_3_input_fn)\r\n",
        "eval_results_test_3"
      ],
      "execution_count": 31,
      "outputs": [
        {
          "output_type": "execute_result",
          "data": {
            "text/plain": [
              "{'accuracy': 0.785,\n",
              " 'average_loss': 0.69971293,\n",
              " 'global_step': 60000,\n",
              " 'loss': 0.69918656}"
            ]
          },
          "metadata": {
            "tags": []
          },
          "execution_count": 31
        }
      ]
    },
    {
      "cell_type": "code",
      "metadata": {
        "colab": {
          "base_uri": "https://localhost:8080/"
        },
        "id": "OKyp8YeEYIOQ",
        "outputId": "ae019531-3aa7-4bba-b53f-ca5108487537"
      },
      "source": [
        "#confusion matrix for Model 3 predictions\r\n",
        "raw_predictions_3 = dnn_clf_3.predict(input_fn=test_3_input_fn)\r\n",
        "predictions_3 = [p['class_ids'][0] for p in raw_predictions_3]\r\n",
        "confusion_matrix_3 = tf.math.confusion_matrix(y_test, predictions_3)\r\n",
        "confusion_matrix_3"
      ],
      "execution_count": 42,
      "outputs": [
        {
          "output_type": "execute_result",
          "data": {
            "text/plain": [
              "<tf.Tensor: shape=(10, 10), dtype=int32, numpy=\n",
              "array([[ 917,    0,    1,   31,    0,    7,   19,    4,    1,    0],\n",
              "       [   0, 1048,   71,    2,    4,    3,    5,    0,    0,    2],\n",
              "       [   9,   39,  760,   23,   33,   37,   33,    5,   72,   21],\n",
              "       [  21,    1,   14,  744,    0,  142,    3,   20,   39,   26],\n",
              "       [   0,   10,   36,    0,  812,    0,    8,    1,   22,   93],\n",
              "       [  12,    1,   21,  241,    7,  428,   26,    7,  117,   32],\n",
              "       [  12,   16,   45,    1,    3,   11,  867,    0,    0,    3],\n",
              "       [   2,    7,   17,    2,   15,    0,    0,  843,    2,  140],\n",
              "       [   3,    3,   99,   38,   22,   62,    4,    1,  702,   40],\n",
              "       [   5,    1,    4,   21,  175,    3,    3,   61,    7,  729]],\n",
              "      dtype=int32)>"
            ]
          },
          "metadata": {
            "tags": []
          },
          "execution_count": 42
        }
      ]
    },
    {
      "cell_type": "markdown",
      "metadata": {
        "id": "o25HmcKqJfNT"
      },
      "source": [
        "##Model 4 - 5 layers 20 nodes per layer\r\n",
        "\r\n",
        "**Processing Time:** 156 s\r\n",
        "\r\n",
        "**Training Set Accuracy:** 0.89856\r\n",
        "\r\n",
        "**Test Set Accuracy:** 0.8995"
      ]
    },
    {
      "cell_type": "code",
      "metadata": {
        "colab": {
          "base_uri": "https://localhost:8080/"
        },
        "id": "idJwNKGwJtvX",
        "outputId": "2b336110-004e-461f-9899-acbfde037df5"
      },
      "source": [
        "%%time\r\n",
        "feature_cols = [tf.feature_column.numeric_column(\"X\", shape=[28 * 28])]\r\n",
        "dnn_clf_4 = tf.estimator.DNNClassifier(hidden_units=[20,20,20,20,20], n_classes=10,\r\n",
        "                                     feature_columns=feature_cols)\r\n",
        "\r\n",
        "input_fn_4 = tf.compat.v1.estimator.inputs.numpy_input_fn(\r\n",
        "    x={\"X\": X_train}, y=y_train, num_epochs=50, batch_size=50, shuffle=True)\r\n",
        "dnn_clf_4.train(input_fn=input_fn_4)"
      ],
      "execution_count": 32,
      "outputs": [
        {
          "output_type": "stream",
          "text": [
            "CPU times: user 2min 29s, sys: 7.34 s, total: 2min 36s\n",
            "Wall time: 1min 42s\n"
          ],
          "name": "stdout"
        }
      ]
    },
    {
      "cell_type": "code",
      "metadata": {
        "colab": {
          "base_uri": "https://localhost:8080/"
        },
        "id": "psRAmszDL8un",
        "outputId": "362739b2-78d4-419f-8ffd-7819c0b168e9"
      },
      "source": [
        "# evaluate training accuracy\r\n",
        "train_4_input_fn = tf.compat.v1.estimator.inputs.numpy_input_fn(\r\n",
        "    x={\"X\": X_train}, y=y_train, shuffle=False)\r\n",
        "eval_results_train_4 = dnn_clf_4.evaluate(input_fn=train_4_input_fn)\r\n",
        "eval_results_train_4"
      ],
      "execution_count": 33,
      "outputs": [
        {
          "output_type": "execute_result",
          "data": {
            "text/plain": [
              "{'accuracy': 0.89856666,\n",
              " 'average_loss': 0.35551164,\n",
              " 'global_step': 60000,\n",
              " 'loss': 0.35555896}"
            ]
          },
          "metadata": {
            "tags": []
          },
          "execution_count": 33
        }
      ]
    },
    {
      "cell_type": "code",
      "metadata": {
        "colab": {
          "base_uri": "https://localhost:8080/"
        },
        "id": "UA3cH9TeMCND",
        "outputId": "6116d417-2f33-4ca6-b1a5-a792dbd6a279"
      },
      "source": [
        "# evalute test accuracy\r\n",
        "test_4_input_fn = tf.compat.v1.estimator.inputs.numpy_input_fn(\r\n",
        "    x={\"X\": X_test}, y=y_test, shuffle=False)\r\n",
        "eval_results_test_4 = dnn_clf_4.evaluate(input_fn=test_4_input_fn)\r\n",
        "eval_results_test_4"
      ],
      "execution_count": 34,
      "outputs": [
        {
          "output_type": "execute_result",
          "data": {
            "text/plain": [
              "{'accuracy': 0.8995,\n",
              " 'average_loss': 0.34878668,\n",
              " 'global_step': 60000,\n",
              " 'loss': 0.34688634}"
            ]
          },
          "metadata": {
            "tags": []
          },
          "execution_count": 34
        }
      ]
    },
    {
      "cell_type": "code",
      "metadata": {
        "colab": {
          "base_uri": "https://localhost:8080/"
        },
        "id": "kEHYreHTYPCV",
        "outputId": "d79d94ce-7c41-44b4-e15f-3fcde94940df"
      },
      "source": [
        "#confusion matrix for Model 4 predictions\r\n",
        "raw_predictions_4 = dnn_clf_4.predict(input_fn=test_4_input_fn)\r\n",
        "predictions_4 = [p['class_ids'][0] for p in raw_predictions_4]\r\n",
        "confusion_matrix_4 = tf.math.confusion_matrix(y_test, predictions_4)\r\n",
        "confusion_matrix_4"
      ],
      "execution_count": 43,
      "outputs": [
        {
          "output_type": "execute_result",
          "data": {
            "text/plain": [
              "<tf.Tensor: shape=(10, 10), dtype=int32, numpy=\n",
              "array([[ 947,    0,    3,    1,    5,   14,    8,    1,    1,    0],\n",
              "       [   0, 1104,   11,    3,    0,    0,    2,    2,   13,    0],\n",
              "       [  11,   18,  897,   25,   10,    5,   25,   15,   23,    3],\n",
              "       [   4,    2,   22,  910,    0,   29,    0,   12,   25,    6],\n",
              "       [   1,    0,    7,    0,  884,    2,   12,    2,   11,   63],\n",
              "       [  23,    1,   12,   77,   15,  701,   12,    7,   33,   11],\n",
              "       [  24,    2,   16,    0,   10,    8,  893,    0,    5,    0],\n",
              "       [   3,   21,   22,    3,    6,    1,    0,  935,    3,   34],\n",
              "       [   5,   12,    8,   36,    8,   42,   12,    3,  822,   26],\n",
              "       [   6,    4,    2,    6,   40,   17,    1,   22,    9,  902]],\n",
              "      dtype=int32)>"
            ]
          },
          "metadata": {
            "tags": []
          },
          "execution_count": 43
        }
      ]
    },
    {
      "cell_type": "markdown",
      "metadata": {
        "id": "N9KL6TOlUWeX"
      },
      "source": [
        "##Summary"
      ]
    }
  ]
}