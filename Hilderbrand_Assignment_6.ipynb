{
  "nbformat": 4,
  "nbformat_minor": 0,
  "metadata": {
    "colab": {
      "name": "Hilderbrand_Assignment_6",
      "provenance": [],
      "collapsed_sections": [],
      "authorship_tag": "ABX9TyPLxowYWEChU0NZ7j7lNWTn",
      "include_colab_link": true
    },
    "kernelspec": {
      "name": "python3",
      "display_name": "Python 3"
    }
  },
  "cells": [
    {
      "cell_type": "markdown",
      "metadata": {
        "id": "view-in-github",
        "colab_type": "text"
      },
      "source": [
        "<a href=\"https://colab.research.google.com/github/rhilderbrand/MSDS-422-MachineLearning/blob/main/Hilderbrand_Assignment_6.ipynb\" target=\"_parent\"><img src=\"https://colab.research.google.com/assets/colab-badge.svg\" alt=\"Open In Colab\"/></a>"
      ]
    },
    {
      "cell_type": "markdown",
      "metadata": {
        "id": "jN5COkhdvbnd"
      },
      "source": [
        "#Assignment 6: Neural Networks\r\n",
        "\r\n",
        "This assignment asks you to fit a number of neural networks, comparing processing time and performance across experimental treatments. Processing time will be recorded for the fitting on the train.csv.  Kaggle.com accuracy scores will be reported for all benchmarks"
      ]
    },
    {
      "cell_type": "markdown",
      "metadata": {
        "id": "LQi2NQq7v0XQ"
      },
      "source": [
        "## System Setup & Data Preparation"
      ]
    },
    {
      "cell_type": "code",
      "metadata": {
        "id": "aOh60fFTo5Ur"
      },
      "source": [
        "# prepare for Python version 3 features and functions\r\n",
        "from __future__ import division, print_function, unicode_literals\r\n",
        "\r\n",
        "# import common packages\r\n",
        "import pandas as pd\r\n",
        "import numpy as np\r\n",
        "import os\r\n",
        "\r\n",
        "# import TensorFlow\r\n",
        "import tensorflow as tf\r\n",
        "\r\n",
        "#suppress tf.logging\r\n",
        "import logging\r\n",
        "logging.getLogger('tensorflow').disabled = True\r\n",
        "\r\n",
        "# for visualization\r\n",
        "%matplotlib inline\r\n",
        "import matplotlib\r\n",
        "import matplotlib.pyplot as plt\r\n",
        "import seaborn as sns"
      ],
      "execution_count": 1,
      "outputs": []
    },
    {
      "cell_type": "code",
      "metadata": {
        "colab": {
          "base_uri": "https://localhost:8080/"
        },
        "id": "nmqYxARAxYjA",
        "outputId": "6ec638c7-9534-4d7a-804c-b00093424c08"
      },
      "source": [
        "# split data into train and test sets\r\n",
        "(X_train, y_train), (X_test, y_test) = tf.keras.datasets.mnist.load_data()\r\n",
        "X_train = X_train.astype(np.float32).reshape(-1, 28*28) / 255.0\r\n",
        "X_test = X_test.astype(np.float32).reshape(-1, 28*28) / 255.0\r\n",
        "y_train = y_train.astype(np.int32)\r\n",
        "y_test = y_test.astype(np.int32)"
      ],
      "execution_count": 2,
      "outputs": [
        {
          "output_type": "stream",
          "text": [
            "Downloading data from https://storage.googleapis.com/tensorflow/tf-keras-datasets/mnist.npz\n",
            "11493376/11490434 [==============================] - 0s 0us/step\n"
          ],
          "name": "stdout"
        }
      ]
    },
    {
      "cell_type": "code",
      "metadata": {
        "colab": {
          "base_uri": "https://localhost:8080/"
        },
        "id": "ded0U2k4zRV7",
        "outputId": "e81a8f22-abb5-4596-be39-b25654a24b1c"
      },
      "source": [
        "# check data splits for test and train\r\n",
        "print(X_train.shape)\r\n",
        "print(X_test.shape)\r\n",
        "print(y_train.shape)\r\n",
        "print(y_test.shape)"
      ],
      "execution_count": 3,
      "outputs": [
        {
          "output_type": "stream",
          "text": [
            "(60000, 784)\n",
            "(10000, 784)\n",
            "(60000,)\n",
            "(10000,)\n"
          ],
          "name": "stdout"
        }
      ]
    },
    {
      "cell_type": "markdown",
      "metadata": {
        "id": "tS-QANdM4e7d"
      },
      "source": [
        "##Model 1 - 2 layers 10 nodes per layer\r\n",
        "\r\n",
        "**Processing Time:** 128 s\r\n",
        "\r\n",
        "**Training Set Accuracy:** 0.8613\r\n",
        "\r\n",
        "**Test Set Accuracy:** 0.8637"
      ]
    },
    {
      "cell_type": "code",
      "metadata": {
        "colab": {
          "base_uri": "https://localhost:8080/"
        },
        "id": "vMHKgC_m4T8Y",
        "outputId": "718f9b6a-d95f-4120-c33f-5a36a5bc028a"
      },
      "source": [
        "%%time\r\n",
        "feature_cols = [tf.feature_column.numeric_column(\"X\", shape=[28 * 28])]\r\n",
        "dnn_clf_1 = tf.estimator.DNNClassifier(hidden_units=[10,10], n_classes=10,\r\n",
        "                                     feature_columns=feature_cols)\r\n",
        "\r\n",
        "input_fn_1 = tf.compat.v1.estimator.inputs.numpy_input_fn(\r\n",
        "    x={\"X\": X_train}, y=y_train, num_epochs=50, batch_size=50, shuffle=True)\r\n",
        "dnn_clf_1.train(input_fn=input_fn_1)"
      ],
      "execution_count": 4,
      "outputs": [
        {
          "output_type": "stream",
          "text": [
            "CPU times: user 2min 2s, sys: 6.56 s, total: 2min 8s\n",
            "Wall time: 1min 27s\n"
          ],
          "name": "stdout"
        }
      ]
    },
    {
      "cell_type": "code",
      "metadata": {
        "colab": {
          "base_uri": "https://localhost:8080/"
        },
        "id": "7PF1ACDn-2ng",
        "outputId": "3ea78905-c644-4b9b-9cd9-b82eb5d69e83"
      },
      "source": [
        "# evaluate training accuracy\r\n",
        "train_1_input_fn = tf.compat.v1.estimator.inputs.numpy_input_fn(\r\n",
        "    x={\"X\": X_train}, y=y_train, shuffle=False)\r\n",
        "eval_results_train_1 = dnn_clf_1.evaluate(input_fn=train_1_input_fn)\r\n",
        "eval_results_train_1"
      ],
      "execution_count": 5,
      "outputs": [
        {
          "output_type": "execute_result",
          "data": {
            "text/plain": [
              "{'accuracy': 0.8613333,\n",
              " 'average_loss': 0.5005337,\n",
              " 'global_step': 60000,\n",
              " 'loss': 0.5005781}"
            ]
          },
          "metadata": {
            "tags": []
          },
          "execution_count": 5
        }
      ]
    },
    {
      "cell_type": "code",
      "metadata": {
        "colab": {
          "base_uri": "https://localhost:8080/"
        },
        "id": "UR_DYEH8_Lb0",
        "outputId": "51654fb8-bc1a-4080-cdf7-9a91315416e5"
      },
      "source": [
        "# evalute test accuracy\r\n",
        "test_1_input_fn = tf.compat.v1.estimator.inputs.numpy_input_fn(\r\n",
        "    x={\"X\": X_test}, y=y_test, shuffle=False)\r\n",
        "eval_results_test_1 = dnn_clf_1.evaluate(input_fn=test_1_input_fn)\r\n",
        "eval_results_test_1"
      ],
      "execution_count": 6,
      "outputs": [
        {
          "output_type": "execute_result",
          "data": {
            "text/plain": [
              "{'accuracy': 0.8637,\n",
              " 'average_loss': 0.48754096,\n",
              " 'global_step': 60000,\n",
              " 'loss': 0.48577008}"
            ]
          },
          "metadata": {
            "tags": []
          },
          "execution_count": 6
        }
      ]
    },
    {
      "cell_type": "code",
      "metadata": {
        "colab": {
          "base_uri": "https://localhost:8080/"
        },
        "id": "7-UGFKZJUp8R",
        "outputId": "24bd5bf8-d01b-457b-b121-ebfa92bacf38"
      },
      "source": [
        "#confusion matrix for Model 1 predictions\r\n",
        "raw_predictions_1 = dnn_clf_1.predict(input_fn=test_1_input_fn)\r\n",
        "predictions_1 = [p['class_ids'][0] for p in raw_predictions_1]\r\n",
        "confusion_matrix_1 = tf.math.confusion_matrix(y_test, predictions_1)\r\n",
        "confusion_matrix_1"
      ],
      "execution_count": 7,
      "outputs": [
        {
          "output_type": "execute_result",
          "data": {
            "text/plain": [
              "<tf.Tensor: shape=(10, 10), dtype=int32, numpy=\n",
              "array([[ 903,    0,   19,    8,    1,   34,    2,    1,    7,    5],\n",
              "       [   1, 1085,    2,    5,    1,    0,   11,    1,   28,    1],\n",
              "       [  14,   14,  837,   44,   18,    0,   35,   14,   48,    8],\n",
              "       [  21,    1,   25,  855,    2,   37,    5,   23,   37,    4],\n",
              "       [   0,    5,   11,    0,  887,    0,   15,    0,    4,   60],\n",
              "       [  31,    9,    5,   57,   12,  681,   16,   11,   63,    7],\n",
              "       [   8,   13,   54,    3,    8,   27,  839,    0,    5,    1],\n",
              "       [   2,   13,   32,    6,    7,    2,    3,  905,    5,   53],\n",
              "       [   8,   19,   13,   28,   24,   26,    9,    7,  814,   26],\n",
              "       [   5,    3,    7,   10,   77,   15,    0,   46,   15,  831]],\n",
              "      dtype=int32)>"
            ]
          },
          "metadata": {
            "tags": []
          },
          "execution_count": 7
        }
      ]
    },
    {
      "cell_type": "markdown",
      "metadata": {
        "id": "TjshbPemC5Jp"
      },
      "source": [
        "##Model 2 - 2 layers 20 nodes per layer\r\n",
        "\r\n",
        "**Processing Time:** 140 s\r\n",
        "\r\n",
        "**Training Set Accuracy:** 0.90785\r\n",
        "\r\n",
        "**Test Set Accuracy:** 0.9142"
      ]
    },
    {
      "cell_type": "code",
      "metadata": {
        "colab": {
          "base_uri": "https://localhost:8080/"
        },
        "id": "cgVrVgCOCywz",
        "outputId": "f519cf5e-7ea7-4ca1-8425-5bd749255e9b"
      },
      "source": [
        "%%time\r\n",
        "feature_cols = [tf.feature_column.numeric_column(\"X\", shape=[28 * 28])]\r\n",
        "dnn_clf_2 = tf.estimator.DNNClassifier(hidden_units=[20,20], n_classes=10,\r\n",
        "                                     feature_columns=feature_cols)\r\n",
        "\r\n",
        "input_fn_2 = tf.compat.v1.estimator.inputs.numpy_input_fn(\r\n",
        "    x={\"X\": X_train}, y=y_train, num_epochs=50, batch_size=50, shuffle=True)\r\n",
        "dnn_clf_2.train(input_fn=input_fn_2)"
      ],
      "execution_count": 8,
      "outputs": [
        {
          "output_type": "stream",
          "text": [
            "CPU times: user 2min 12s, sys: 7.34 s, total: 2min 20s\n",
            "Wall time: 1min 28s\n"
          ],
          "name": "stdout"
        }
      ]
    },
    {
      "cell_type": "code",
      "metadata": {
        "colab": {
          "base_uri": "https://localhost:8080/"
        },
        "id": "-UBmLk77HvjA",
        "outputId": "c66ccfb4-a165-4387-cf5f-88f45122ba90"
      },
      "source": [
        "# evaluate training accuracy\r\n",
        "train_2_input_fn = tf.compat.v1.estimator.inputs.numpy_input_fn(\r\n",
        "    x={\"X\": X_train}, y=y_train, shuffle=False)\r\n",
        "eval_results_train_2 = dnn_clf_2.evaluate(input_fn=train_2_input_fn)\r\n",
        "eval_results_train_2"
      ],
      "execution_count": 9,
      "outputs": [
        {
          "output_type": "execute_result",
          "data": {
            "text/plain": [
              "{'accuracy': 0.90785,\n",
              " 'average_loss': 0.33671892,\n",
              " 'global_step': 60000,\n",
              " 'loss': 0.33669648}"
            ]
          },
          "metadata": {
            "tags": []
          },
          "execution_count": 9
        }
      ]
    },
    {
      "cell_type": "code",
      "metadata": {
        "colab": {
          "base_uri": "https://localhost:8080/"
        },
        "id": "Coten8FSIGlc",
        "outputId": "2f1665bc-af2d-4c6f-c11c-7bc21defae75"
      },
      "source": [
        "# evalute test accuracy\r\n",
        "test_2_input_fn = tf.compat.v1.estimator.inputs.numpy_input_fn(\r\n",
        "    x={\"X\": X_test}, y=y_test, shuffle=False)\r\n",
        "eval_results_test_2 = dnn_clf_2.evaluate(input_fn=test_2_input_fn)\r\n",
        "eval_results_test_2"
      ],
      "execution_count": 10,
      "outputs": [
        {
          "output_type": "execute_result",
          "data": {
            "text/plain": [
              "{'accuracy': 0.9142,\n",
              " 'average_loss': 0.32454455,\n",
              " 'global_step': 60000,\n",
              " 'loss': 0.32295388}"
            ]
          },
          "metadata": {
            "tags": []
          },
          "execution_count": 10
        }
      ]
    },
    {
      "cell_type": "code",
      "metadata": {
        "colab": {
          "base_uri": "https://localhost:8080/"
        },
        "id": "k5d-bRrtYAIq",
        "outputId": "6009f757-9fd8-466c-c582-e04edf654d86"
      },
      "source": [
        "#confusion matrix for Model 2 predictions\r\n",
        "raw_predictions_2 = dnn_clf_2.predict(input_fn=test_2_input_fn)\r\n",
        "predictions_2 = [p['class_ids'][0] for p in raw_predictions_2]\r\n",
        "confusion_matrix_2 = tf.math.confusion_matrix(y_test, predictions_2)\r\n",
        "confusion_matrix_2"
      ],
      "execution_count": 11,
      "outputs": [
        {
          "output_type": "execute_result",
          "data": {
            "text/plain": [
              "<tf.Tensor: shape=(10, 10), dtype=int32, numpy=\n",
              "array([[ 956,    0,    2,    2,    0,    4,   11,    1,    4,    0],\n",
              "       [   0, 1111,    2,    4,    0,    1,    4,    1,   12,    0],\n",
              "       [  13,    1,  908,   15,   20,    3,   14,   18,   37,    3],\n",
              "       [   3,    1,   14,  913,    0,   31,    4,   15,   22,    7],\n",
              "       [   2,    6,    4,    2,  907,    1,   15,    2,    6,   37],\n",
              "       [  11,    2,    2,   43,    8,  751,   17,    5,   47,    6],\n",
              "       [  12,    3,    7,    1,   13,   17,  897,    1,    7,    0],\n",
              "       [   3,   13,   33,    7,    8,    0,    0,  934,    6,   24],\n",
              "       [  12,    9,    7,   20,    7,   18,   10,   21,  860,   10],\n",
              "       [  11,    6,    3,   11,   38,   13,    0,   17,    5,  905]],\n",
              "      dtype=int32)>"
            ]
          },
          "metadata": {
            "tags": []
          },
          "execution_count": 11
        }
      ]
    },
    {
      "cell_type": "markdown",
      "metadata": {
        "id": "mxCuLZX0IWEy"
      },
      "source": [
        "##Model 3 - 5 layers 10 nodes per layer\r\n",
        "\r\n",
        "**Processing Time:** 138 s\r\n",
        "\r\n",
        "**Training Set Accuracy:** 0.7168\r\n",
        "\r\n",
        "**Test Set Accuracy:** 0.718"
      ]
    },
    {
      "cell_type": "code",
      "metadata": {
        "colab": {
          "base_uri": "https://localhost:8080/"
        },
        "id": "WcO0TUWCIdzu",
        "outputId": "69b18e0b-b8b6-430d-d958-3a718801b7a8"
      },
      "source": [
        "%%time\r\n",
        "feature_cols = [tf.feature_column.numeric_column(\"X\", shape=[28 * 28])]\r\n",
        "dnn_clf_3 = tf.estimator.DNNClassifier(hidden_units=[10,10,10,10,10], n_classes=10,\r\n",
        "                                     feature_columns=feature_cols)\r\n",
        "\r\n",
        "input_fn_3 = tf.compat.v1.estimator.inputs.numpy_input_fn(\r\n",
        "    x={\"X\": X_train}, y=y_train, num_epochs=50, batch_size=50, shuffle=True)\r\n",
        "dnn_clf_3.train(input_fn=input_fn_3)"
      ],
      "execution_count": 12,
      "outputs": [
        {
          "output_type": "stream",
          "text": [
            "CPU times: user 2min 11s, sys: 6.48 s, total: 2min 18s\n",
            "Wall time: 1min 28s\n"
          ],
          "name": "stdout"
        }
      ]
    },
    {
      "cell_type": "code",
      "metadata": {
        "colab": {
          "base_uri": "https://localhost:8080/"
        },
        "id": "5PxzzSriJGKN",
        "outputId": "2565bfb7-2477-48d6-9ba6-b9a33dea7a72"
      },
      "source": [
        "# evaluate training accuracy\r\n",
        "train_3_input_fn = tf.compat.v1.estimator.inputs.numpy_input_fn(\r\n",
        "    x={\"X\": X_train}, y=y_train, shuffle=False)\r\n",
        "eval_results_train_3 = dnn_clf_3.evaluate(input_fn=train_3_input_fn)\r\n",
        "eval_results_train_3"
      ],
      "execution_count": 13,
      "outputs": [
        {
          "output_type": "execute_result",
          "data": {
            "text/plain": [
              "{'accuracy': 0.71683335,\n",
              " 'average_loss': 0.8182206,\n",
              " 'global_step': 60000,\n",
              " 'loss': 0.81823534}"
            ]
          },
          "metadata": {
            "tags": []
          },
          "execution_count": 13
        }
      ]
    },
    {
      "cell_type": "code",
      "metadata": {
        "colab": {
          "base_uri": "https://localhost:8080/"
        },
        "id": "WSFwvKINJSPr",
        "outputId": "cad8615c-008f-47e5-9dbc-5651b1fad1f2"
      },
      "source": [
        "# evalute test accuracy\r\n",
        "test_3_input_fn = tf.compat.v1.estimator.inputs.numpy_input_fn(\r\n",
        "    x={\"X\": X_test}, y=y_test, shuffle=False)\r\n",
        "eval_results_test_3 = dnn_clf_3.evaluate(input_fn=test_3_input_fn)\r\n",
        "eval_results_test_3"
      ],
      "execution_count": 14,
      "outputs": [
        {
          "output_type": "execute_result",
          "data": {
            "text/plain": [
              "{'accuracy': 0.718,\n",
              " 'average_loss': 0.8159881,\n",
              " 'global_step': 60000,\n",
              " 'loss': 0.81525016}"
            ]
          },
          "metadata": {
            "tags": []
          },
          "execution_count": 14
        }
      ]
    },
    {
      "cell_type": "code",
      "metadata": {
        "colab": {
          "base_uri": "https://localhost:8080/"
        },
        "id": "OKyp8YeEYIOQ",
        "outputId": "da7e35f2-74db-44cf-f2b9-1a5e4e1fe2db"
      },
      "source": [
        "#confusion matrix for Model 3 predictions\r\n",
        "raw_predictions_3 = dnn_clf_3.predict(input_fn=test_3_input_fn)\r\n",
        "predictions_3 = [p['class_ids'][0] for p in raw_predictions_3]\r\n",
        "confusion_matrix_3 = tf.math.confusion_matrix(y_test, predictions_3)\r\n",
        "confusion_matrix_3"
      ],
      "execution_count": 15,
      "outputs": [
        {
          "output_type": "execute_result",
          "data": {
            "text/plain": [
              "<tf.Tensor: shape=(10, 10), dtype=int32, numpy=\n",
              "array([[ 873,    0,   48,   45,    0,    2,    6,    1,    5,    0],\n",
              "       [   1, 1100,    2,    1,    5,    2,    9,    2,   13,    0],\n",
              "       [  51,   15,  772,   28,   16,   14,   41,    7,   87,    1],\n",
              "       [  82,    1,   47,  619,    2,  107,    1,   11,  133,    7],\n",
              "       [   0,   67,    5,    0,  333,    0,   16,    7,   35,  519],\n",
              "       [  22,    4,   61,  385,    1,  187,    5,   17,  208,    2],\n",
              "       [   8,   28,   69,    4,    2,    0,  840,    0,    6,    1],\n",
              "       [   2,   10,    7,    6,   17,    1,    1,  875,   45,   64],\n",
              "       [   3,   21,   36,   31,    8,   41,    3,   14,  812,    5],\n",
              "       [   2,   12,    3,    9,   88,    6,    4,   89,   27,  769]],\n",
              "      dtype=int32)>"
            ]
          },
          "metadata": {
            "tags": []
          },
          "execution_count": 15
        }
      ]
    },
    {
      "cell_type": "markdown",
      "metadata": {
        "id": "o25HmcKqJfNT"
      },
      "source": [
        "##Model 4 - 5 layers 20 nodes per layer\r\n",
        "\r\n",
        "**Processing Time:** 156 s\r\n",
        "\r\n",
        "**Training Set Accuracy:** 0.8982\r\n",
        "\r\n",
        "**Test Set Accuracy:** 0.8992"
      ]
    },
    {
      "cell_type": "code",
      "metadata": {
        "colab": {
          "base_uri": "https://localhost:8080/"
        },
        "id": "idJwNKGwJtvX",
        "outputId": "14304efc-1769-4c49-8c93-75f692d2f3c6"
      },
      "source": [
        "%%time\r\n",
        "feature_cols = [tf.feature_column.numeric_column(\"X\", shape=[28 * 28])]\r\n",
        "dnn_clf_4 = tf.estimator.DNNClassifier(hidden_units=[20,20,20,20,20], n_classes=10,\r\n",
        "                                     feature_columns=feature_cols)\r\n",
        "\r\n",
        "input_fn_4 = tf.compat.v1.estimator.inputs.numpy_input_fn(\r\n",
        "    x={\"X\": X_train}, y=y_train, num_epochs=50, batch_size=50, shuffle=True)\r\n",
        "dnn_clf_4.train(input_fn=input_fn_4)"
      ],
      "execution_count": 16,
      "outputs": [
        {
          "output_type": "stream",
          "text": [
            "CPU times: user 2min 30s, sys: 6.56 s, total: 2min 36s\n",
            "Wall time: 1min 47s\n"
          ],
          "name": "stdout"
        }
      ]
    },
    {
      "cell_type": "code",
      "metadata": {
        "colab": {
          "base_uri": "https://localhost:8080/"
        },
        "id": "psRAmszDL8un",
        "outputId": "6df6b283-94b6-4623-9510-5713fea296fa"
      },
      "source": [
        "# evaluate training accuracy\r\n",
        "train_4_input_fn = tf.compat.v1.estimator.inputs.numpy_input_fn(\r\n",
        "    x={\"X\": X_train}, y=y_train, shuffle=False)\r\n",
        "eval_results_train_4 = dnn_clf_4.evaluate(input_fn=train_4_input_fn)\r\n",
        "eval_results_train_4"
      ],
      "execution_count": 17,
      "outputs": [
        {
          "output_type": "execute_result",
          "data": {
            "text/plain": [
              "{'accuracy': 0.89821666,\n",
              " 'average_loss': 0.35280833,\n",
              " 'global_step': 60000,\n",
              " 'loss': 0.3528102}"
            ]
          },
          "metadata": {
            "tags": []
          },
          "execution_count": 17
        }
      ]
    },
    {
      "cell_type": "code",
      "metadata": {
        "colab": {
          "base_uri": "https://localhost:8080/"
        },
        "id": "UA3cH9TeMCND",
        "outputId": "077bbc37-a6b2-4b8a-d9f2-732b005a71b4"
      },
      "source": [
        "# evalute test accuracy\r\n",
        "test_4_input_fn = tf.compat.v1.estimator.inputs.numpy_input_fn(\r\n",
        "    x={\"X\": X_test}, y=y_test, shuffle=False)\r\n",
        "eval_results_test_4 = dnn_clf_4.evaluate(input_fn=test_4_input_fn)\r\n",
        "eval_results_test_4"
      ],
      "execution_count": 18,
      "outputs": [
        {
          "output_type": "execute_result",
          "data": {
            "text/plain": [
              "{'accuracy': 0.8992,\n",
              " 'average_loss': 0.34777656,\n",
              " 'global_step': 60000,\n",
              " 'loss': 0.34536946}"
            ]
          },
          "metadata": {
            "tags": []
          },
          "execution_count": 18
        }
      ]
    },
    {
      "cell_type": "code",
      "metadata": {
        "colab": {
          "base_uri": "https://localhost:8080/"
        },
        "id": "kEHYreHTYPCV",
        "outputId": "2b878f4e-b728-4e65-aef2-0b69455d1e1d"
      },
      "source": [
        "#confusion matrix for Model 4 predictions\r\n",
        "raw_predictions_4 = dnn_clf_4.predict(input_fn=test_4_input_fn)\r\n",
        "predictions_4 = [p['class_ids'][0] for p in raw_predictions_4]\r\n",
        "confusion_matrix_4 = tf.math.confusion_matrix(y_test, predictions_4)\r\n",
        "confusion_matrix_4"
      ],
      "execution_count": 19,
      "outputs": [
        {
          "output_type": "execute_result",
          "data": {
            "text/plain": [
              "<tf.Tensor: shape=(10, 10), dtype=int32, numpy=\n",
              "array([[ 946,    0,    1,    1,    0,   11,   16,    2,    3,    0],\n",
              "       [   0, 1095,   15,   12,    0,    1,    3,    0,    7,    2],\n",
              "       [  12,    8,  928,   12,   12,    3,   15,   12,   27,    3],\n",
              "       [   4,    5,   23,  891,    0,   40,    1,   15,   28,    3],\n",
              "       [   0,    0,    6,    0,  904,    0,   21,    7,    3,   41],\n",
              "       [  22,    2,   10,   78,    6,  723,   10,    2,   32,    7],\n",
              "       [  22,    1,   15,    0,   10,   11,  896,    0,    3,    0],\n",
              "       [   5,   33,   14,    1,    5,    0,    0,  915,    3,   52],\n",
              "       [   6,    4,   17,   31,   15,   54,    4,    4,  812,   27],\n",
              "       [   5,    1,    0,   14,   52,    6,    4,   32,   13,  882]],\n",
              "      dtype=int32)>"
            ]
          },
          "metadata": {
            "tags": []
          },
          "execution_count": 19
        }
      ]
    },
    {
      "cell_type": "markdown",
      "metadata": {
        "id": "N9KL6TOlUWeX"
      },
      "source": [
        "##Summary\r\n"
      ]
    },
    {
      "cell_type": "markdown",
      "metadata": {
        "id": "SGUvXFmJhm4u"
      },
      "source": [
        "Model 1 took the least amount of time (128 s) to process, but Model 2 had the highest accuracy score on the test data set (0.9142) only taking an additional 20 seconds with a processing time of 140 s."
      ]
    }
  ]
}