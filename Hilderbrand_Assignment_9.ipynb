{
  "nbformat": 4,
  "nbformat_minor": 0,
  "metadata": {
    "colab": {
      "name": "Hilderbrand_Assignment_9",
      "provenance": [],
      "collapsed_sections": [],
      "authorship_tag": "ABX9TyORK4WqjJqYCWzAi6SCnRCf",
      "include_colab_link": true
    },
    "kernelspec": {
      "name": "python3",
      "display_name": "Python 3"
    }
  },
  "cells": [
    {
      "cell_type": "markdown",
      "metadata": {
        "id": "view-in-github",
        "colab_type": "text"
      },
      "source": [
        "<a href=\"https://colab.research.google.com/github/rhilderbrand/MSDS-422-MachineLearning/blob/main/Hilderbrand_Assignment_9.ipynb\" target=\"_parent\"><img src=\"https://colab.research.google.com/assets/colab-badge.svg\" alt=\"Open In Colab\"/></a>"
      ]
    },
    {
      "cell_type": "markdown",
      "metadata": {
        "id": "hlUD3jj08ryl"
      },
      "source": [
        "#Assignment 9: Autoencoder\r\n",
        "\r\n",
        "\r\n",
        "\r\n",
        "1.   Import and preprocess data\r\n",
        "2.   Set parameters and define autoencoder backpropagation function\r\n",
        "3.   Run a process to train autoencoder\r\n",
        "4.   Visualise what the autoencoder has learned\r\n",
        "\r\n",
        "\r\n",
        "\r\n"
      ]
    },
    {
      "cell_type": "code",
      "metadata": {
        "id": "IkMV2xUOclVa"
      },
      "source": [
        "# import necessary packages\r\n",
        "import pandas as pd\r\n",
        "import numpy as np\r\n",
        "import os\r\n",
        "import matplotlib.pyplot as plt\r\n",
        "%matplotlib inline\r\n",
        "\r\n",
        "from scipy.stats import norm\r\n",
        "\r\n",
        "import keras\r\n",
        "from keras import layers\r\n",
        "from keras.models import Model\r\n",
        "from keras import metrics"
      ],
      "execution_count": null,
      "outputs": []
    },
    {
      "cell_type": "code",
      "metadata": {
        "colab": {
          "base_uri": "https://localhost:8080/"
        },
        "id": "d8b44P5WdKWB",
        "outputId": "121edd43-fdee-499d-9e11-3883c48fb38b"
      },
      "source": [
        "#S2 Mount Google Drive to Colab Enviorment\r\n",
        "from google.colab import drive\r\n",
        "drive.mount('/content/gdrive')"
      ],
      "execution_count": null,
      "outputs": [
        {
          "output_type": "stream",
          "text": [
            "Mounted at /content/gdrive\n"
          ],
          "name": "stdout"
        }
      ]
    },
    {
      "cell_type": "code",
      "metadata": {
        "colab": {
          "base_uri": "https://localhost:8080/"
        },
        "id": "HmlnO63tdc8Q",
        "outputId": "be154fd4-3d4f-487e-eaff-db1a5412098d"
      },
      "source": [
        "#S3 Establish working directory\r\n",
        "import os # Operation System\r\n",
        "os.getcwd()\r\n",
        "%cd /content/gdrive/My Drive/Colab Notebooks/Week 9/\r\n",
        "!pwd\r\n",
        "!ls\r\n",
        "print('Working Directory')\r\n",
        "print(os.getcwd())\r\n",
        "\r\n",
        "work_dir = \" /content/gdrive/My Drive/Colab Notebooks/Week 9/\""
      ],
      "execution_count": null,
      "outputs": [
        {
          "output_type": "stream",
          "text": [
            "/content/gdrive/My Drive/Colab Notebooks/Week 9\n",
            "/content/gdrive/My Drive/Colab Notebooks/Week 9\n",
            "Hilderbrand_Assignment_9  test.csv  train.csv  Untitled0.ipynb\n",
            "Working Directory\n",
            "/content/gdrive/My Drive/Colab Notebooks/Week 9\n"
          ],
          "name": "stdout"
        }
      ]
    },
    {
      "cell_type": "code",
      "metadata": {
        "id": "QaL-ecAfdr5Z"
      },
      "source": [
        "train = pd.read_csv('train.csv')\r\n",
        "train = train.drop('label', axis=1)\r\n",
        "train = train.values\r\n",
        "\r\n",
        "test = pd.read_csv('test.csv')\r\n",
        "test= test.values"
      ],
      "execution_count": null,
      "outputs": []
    },
    {
      "cell_type": "code",
      "metadata": {
        "id": "Qnty_SbHegjk"
      },
      "source": [
        "X_train = train.copy()\r\n",
        "X_test = test.copy()"
      ],
      "execution_count": null,
      "outputs": []
    },
    {
      "cell_type": "code",
      "metadata": {
        "colab": {
          "base_uri": "https://localhost:8080/"
        },
        "id": "p0ErIPqGfYln",
        "outputId": "0462675b-a371-4d17-cd42-14fcbc04ffdd"
      },
      "source": [
        "# normalize all values between 0 and 1\r\n",
        "X_train = X_train.astype('float32') / 255.\r\n",
        "X_test = X_test.astype('float32') / 255.\r\n",
        "\r\n",
        "# input dimensions when the image size is flattened\r\n",
        "input_dim = np.prod(X_train.shape[1:])\r\n",
        "\r\n",
        "# flatten the 28x28 pixel image into vectors of size 784\r\n",
        "X_train = X_train.reshape((len(X_train), np.prod(X_train.shape[1:])))\r\n",
        "X_test = X_test.reshape((len(X_test), np.prod(X_test.shape[1:])))\r\n",
        "\r\n",
        "print(X_train.shape)\r\n",
        "print(X_test.shape)"
      ],
      "execution_count": null,
      "outputs": [
        {
          "output_type": "stream",
          "text": [
            "(42000, 784)\n",
            "(28000, 784)\n"
          ],
          "name": "stdout"
        }
      ]
    },
    {
      "cell_type": "code",
      "metadata": {
        "id": "3qEcuoObhQdq"
      },
      "source": [
        "# size of our encoded representations\r\n",
        "# 32 floats - compression factor 24.5, assuming input is 784 floats\r\n",
        "encoded_dim = 32 \r\n",
        "\r\n",
        "# sizes and number of hidden layers\r\n",
        "hidden_layer_weights = [392, 98]\r\n",
        "hidden_layers = len(hidden_layer_weights)"
      ],
      "execution_count": null,
      "outputs": []
    },
    {
      "cell_type": "code",
      "metadata": {
        "id": "1-pXQJaplJpP"
      },
      "source": [
        "# Create encoding layers.\r\n",
        "def get_encoder(input, layers, encoded_dim, units):\r\n",
        "    x = None\r\n",
        "    for i in range(layers):\r\n",
        "        x = keras.layers.Dense(units[i]\r\n",
        "                               , activation='relu')(input if x is None else x)\r\n",
        "    return keras.layers.Dense(encoded_dim\r\n",
        "                              , activation='relu')(x)\r\n",
        "\r\n",
        "# Create decoding layers.\r\n",
        "def get_decoder(input, layers, input_dim, units):\r\n",
        "    x = None\r\n",
        "    for i in range(layers):\r\n",
        "        x = keras.layers.Dense(units[i]\r\n",
        "                               , activation='relu')(input if x is None else x)\r\n",
        "    return keras.layers.Dense(input_dim\r\n",
        "                              , activation='sigmoid')(x)\r\n",
        "\r\n",
        "# Create a new stack of layers from existing layers with new input layer.\r\n",
        "def add_new_input(input, layers):\r\n",
        "    new_layer_stack = input\r\n",
        "    for layer in layers:\r\n",
        "        new_layer_stack = layer(new_layer_stack)\r\n",
        "    return new_layer_stack\r\n"
      ],
      "execution_count": null,
      "outputs": []
    },
    {
      "cell_type": "code",
      "metadata": {
        "id": "q3ivrl1_lOSc"
      },
      "source": [
        "# Input to encoder.\r\n",
        "input = keras.layers.Input(shape=(input_dim,))\r\n",
        "# Create encoder half.\r\n",
        "encoded_layer = get_encoder(input, hidden_layers, encoded_dim, hidden_layer_weights)\r\n",
        "# Create decoder half.\r\n",
        "decoded_layer = get_decoder(encoded_layer, hidden_layers, input_dim, list(reversed(hidden_layer_weights)))\r\n",
        "\r\n",
        "# Assemble full autoencoder model.\r\n",
        "full_model = keras.models.Model(input, decoded_layer)\r\n",
        "\r\n",
        "# Assemble encoder model.\r\n",
        "encoder = keras.models.Model(input, encoded_layer)\r\n",
        "\r\n",
        "# Assemble decoder model (with new input!).\r\n",
        "decoder_input = keras.layers.Input(shape=(encoded_dim,))\r\n",
        "decoder = keras.models.Model(decoder_input, add_new_input(decoder_input, full_model.layers[-(hidden_layers + 1):]))"
      ],
      "execution_count": null,
      "outputs": []
    },
    {
      "cell_type": "code",
      "metadata": {
        "colab": {
          "base_uri": "https://localhost:8080/"
        },
        "id": "ws68L9dclsuL",
        "outputId": "8e146f21-d236-42f8-d754-6006416f16f4"
      },
      "source": [
        "full_model.compile(optimizer=keras.optimizers.Adam()\r\n",
        "                   , loss=keras.losses.binary_crossentropy\r\n",
        "                   , metrics=[keras.metrics.binary_crossentropy])\r\n",
        "\r\n",
        "full_model.summary()"
      ],
      "execution_count": null,
      "outputs": [
        {
          "output_type": "stream",
          "text": [
            "Model: \"model\"\n",
            "_________________________________________________________________\n",
            "Layer (type)                 Output Shape              Param #   \n",
            "=================================================================\n",
            "input_1 (InputLayer)         [(None, 784)]             0         \n",
            "_________________________________________________________________\n",
            "dense (Dense)                (None, 392)               307720    \n",
            "_________________________________________________________________\n",
            "dense_1 (Dense)              (None, 98)                38514     \n",
            "_________________________________________________________________\n",
            "dense_2 (Dense)              (None, 32)                3168      \n",
            "_________________________________________________________________\n",
            "dense_3 (Dense)              (None, 98)                3234      \n",
            "_________________________________________________________________\n",
            "dense_4 (Dense)              (None, 392)               38808     \n",
            "_________________________________________________________________\n",
            "dense_5 (Dense)              (None, 784)               308112    \n",
            "=================================================================\n",
            "Total params: 699,556\n",
            "Trainable params: 699,556\n",
            "Non-trainable params: 0\n",
            "_________________________________________________________________\n"
          ],
          "name": "stdout"
        }
      ]
    },
    {
      "cell_type": "markdown",
      "metadata": {
        "id": "J-RGS4nO5eqs"
      },
      "source": [
        "##Train and Test Autoencoder"
      ]
    },
    {
      "cell_type": "code",
      "metadata": {
        "colab": {
          "base_uri": "https://localhost:8080/"
        },
        "id": "aZqHm85DlxNg",
        "outputId": "248f91f3-5a44-4d38-bf60-3c1e53be3e59"
      },
      "source": [
        "# Use early stopping to stop the training when loss does not decrease anymore.\r\n",
        "callbacks = [keras.callbacks.EarlyStopping(patience=2)]\r\n",
        "\r\n",
        "history = full_model.fit(X_train\r\n",
        "               , X_train\r\n",
        "               , batch_size=128\r\n",
        "               , epochs=100\r\n",
        "               , shuffle=True\r\n",
        "               , validation_split=.1\r\n",
        "               , callbacks=callbacks)"
      ],
      "execution_count": null,
      "outputs": [
        {
          "output_type": "stream",
          "text": [
            "Epoch 1/100\n",
            "296/296 [==============================] - 6s 17ms/step - loss: 0.2867 - binary_crossentropy: 0.2867 - val_loss: 0.1352 - val_binary_crossentropy: 0.1352\n",
            "Epoch 2/100\n",
            "296/296 [==============================] - 5s 17ms/step - loss: 0.1296 - binary_crossentropy: 0.1296 - val_loss: 0.1138 - val_binary_crossentropy: 0.1138\n",
            "Epoch 3/100\n",
            "296/296 [==============================] - 5s 17ms/step - loss: 0.1108 - binary_crossentropy: 0.1108 - val_loss: 0.1049 - val_binary_crossentropy: 0.1049\n",
            "Epoch 4/100\n",
            "296/296 [==============================] - 5s 16ms/step - loss: 0.1029 - binary_crossentropy: 0.1029 - val_loss: 0.0998 - val_binary_crossentropy: 0.0998\n",
            "Epoch 5/100\n",
            "296/296 [==============================] - 5s 16ms/step - loss: 0.0984 - binary_crossentropy: 0.0984 - val_loss: 0.0964 - val_binary_crossentropy: 0.0964\n",
            "Epoch 6/100\n",
            "296/296 [==============================] - 5s 17ms/step - loss: 0.0946 - binary_crossentropy: 0.0946 - val_loss: 0.0935 - val_binary_crossentropy: 0.0935\n",
            "Epoch 7/100\n",
            "296/296 [==============================] - 5s 17ms/step - loss: 0.0921 - binary_crossentropy: 0.0921 - val_loss: 0.0915 - val_binary_crossentropy: 0.0915\n",
            "Epoch 8/100\n",
            "296/296 [==============================] - 5s 17ms/step - loss: 0.0900 - binary_crossentropy: 0.0900 - val_loss: 0.0903 - val_binary_crossentropy: 0.0903\n",
            "Epoch 9/100\n",
            "296/296 [==============================] - 5s 17ms/step - loss: 0.0892 - binary_crossentropy: 0.0892 - val_loss: 0.0890 - val_binary_crossentropy: 0.0890\n",
            "Epoch 10/100\n",
            "296/296 [==============================] - 5s 17ms/step - loss: 0.0879 - binary_crossentropy: 0.0879 - val_loss: 0.0880 - val_binary_crossentropy: 0.0880\n",
            "Epoch 11/100\n",
            "296/296 [==============================] - 5s 17ms/step - loss: 0.0867 - binary_crossentropy: 0.0867 - val_loss: 0.0874 - val_binary_crossentropy: 0.0874\n",
            "Epoch 12/100\n",
            "296/296 [==============================] - 5s 17ms/step - loss: 0.0860 - binary_crossentropy: 0.0860 - val_loss: 0.0866 - val_binary_crossentropy: 0.0866\n",
            "Epoch 13/100\n",
            "296/296 [==============================] - 5s 17ms/step - loss: 0.0852 - binary_crossentropy: 0.0852 - val_loss: 0.0869 - val_binary_crossentropy: 0.0869\n",
            "Epoch 14/100\n",
            "296/296 [==============================] - 5s 17ms/step - loss: 0.0844 - binary_crossentropy: 0.0844 - val_loss: 0.0857 - val_binary_crossentropy: 0.0857\n",
            "Epoch 15/100\n",
            "296/296 [==============================] - 5s 17ms/step - loss: 0.0839 - binary_crossentropy: 0.0839 - val_loss: 0.0848 - val_binary_crossentropy: 0.0848\n",
            "Epoch 16/100\n",
            "296/296 [==============================] - 5s 16ms/step - loss: 0.0836 - binary_crossentropy: 0.0836 - val_loss: 0.0849 - val_binary_crossentropy: 0.0849\n",
            "Epoch 17/100\n",
            "296/296 [==============================] - 5s 16ms/step - loss: 0.0831 - binary_crossentropy: 0.0831 - val_loss: 0.0846 - val_binary_crossentropy: 0.0846\n",
            "Epoch 18/100\n",
            "296/296 [==============================] - 5s 17ms/step - loss: 0.0826 - binary_crossentropy: 0.0826 - val_loss: 0.0838 - val_binary_crossentropy: 0.0838\n",
            "Epoch 19/100\n",
            "296/296 [==============================] - 5s 17ms/step - loss: 0.0822 - binary_crossentropy: 0.0822 - val_loss: 0.0836 - val_binary_crossentropy: 0.0836\n",
            "Epoch 20/100\n",
            "296/296 [==============================] - 5s 17ms/step - loss: 0.0819 - binary_crossentropy: 0.0819 - val_loss: 0.0838 - val_binary_crossentropy: 0.0838\n",
            "Epoch 21/100\n",
            "296/296 [==============================] - 5s 17ms/step - loss: 0.0818 - binary_crossentropy: 0.0818 - val_loss: 0.0835 - val_binary_crossentropy: 0.0835\n",
            "Epoch 22/100\n",
            "296/296 [==============================] - 5s 17ms/step - loss: 0.0813 - binary_crossentropy: 0.0813 - val_loss: 0.0832 - val_binary_crossentropy: 0.0832\n",
            "Epoch 23/100\n",
            "296/296 [==============================] - 5s 16ms/step - loss: 0.0814 - binary_crossentropy: 0.0814 - val_loss: 0.0830 - val_binary_crossentropy: 0.0830\n",
            "Epoch 24/100\n",
            "296/296 [==============================] - 5s 17ms/step - loss: 0.0809 - binary_crossentropy: 0.0809 - val_loss: 0.0827 - val_binary_crossentropy: 0.0827\n",
            "Epoch 25/100\n",
            "296/296 [==============================] - 5s 17ms/step - loss: 0.0806 - binary_crossentropy: 0.0806 - val_loss: 0.0826 - val_binary_crossentropy: 0.0826\n",
            "Epoch 26/100\n",
            "296/296 [==============================] - 5s 16ms/step - loss: 0.0805 - binary_crossentropy: 0.0805 - val_loss: 0.0830 - val_binary_crossentropy: 0.0830\n",
            "Epoch 27/100\n",
            "296/296 [==============================] - 5s 17ms/step - loss: 0.0805 - binary_crossentropy: 0.0805 - val_loss: 0.0826 - val_binary_crossentropy: 0.0826\n"
          ],
          "name": "stdout"
        }
      ]
    },
    {
      "cell_type": "code",
      "metadata": {
        "colab": {
          "base_uri": "https://localhost:8080/"
        },
        "id": "5QQOrzEHoELe",
        "outputId": "bec2190d-8d29-41c9-964d-e32e2a16ad55"
      },
      "source": [
        "print('test loss {}, test binary crossentropy {}'.format(*full_model.evaluate(X_test, X_test, batch_size=128)))"
      ],
      "execution_count": null,
      "outputs": [
        {
          "output_type": "stream",
          "text": [
            "219/219 [==============================] - 1s 6ms/step - loss: 0.0826 - binary_crossentropy: 0.0826\n",
            "test loss 0.08261895924806595, test binary crossentropy 0.08261895924806595\n"
          ],
          "name": "stdout"
        }
      ]
    },
    {
      "cell_type": "markdown",
      "metadata": {
        "id": "bdfoh7k_6zc3"
      },
      "source": [
        "##Visualize Autoencoder"
      ]
    },
    {
      "cell_type": "code",
      "metadata": {
        "colab": {
          "base_uri": "https://localhost:8080/",
          "height": 297
        },
        "id": "9Y_nxSTMoXaG",
        "outputId": "1c6533fb-e922-4e4c-e372-03352df6d5ec"
      },
      "source": [
        "fig, axes = plt.subplots(1, 2)\r\n",
        "\r\n",
        "val_loss_ax = axes[0]\r\n",
        "val_loss_ax.plot(history.history['val_loss'])\r\n",
        "val_loss_ax.title.set_text('Validation loss')\r\n",
        "val_loss_ax.set_xlabel('Epoch')\r\n",
        "\r\n",
        "val_bincross_ax = axes[1]\r\n",
        "val_bincross_ax.plot(history.history['val_binary_crossentropy'])\r\n",
        "val_bincross_ax.title.set_text('Validation binary crossentropy')\r\n",
        "val_bincross_ax.set_xlabel('Epoch')\r\n",
        "\r\n",
        "plt.tight_layout()\r\n",
        "plt.show()"
      ],
      "execution_count": null,
      "outputs": [
        {
          "output_type": "display_data",
          "data": {
            "image/png": "[encoded data removed]",
            "text/plain": [
              "<Figure size 432x288 with 2 Axes>"
            ]
          },
          "metadata": {
            "tags": [],
            "needs_background": "light"
          }
        }
      ]
    },
    {
      "cell_type": "code",
      "metadata": {
        "colab": {
          "base_uri": "https://localhost:8080/",
          "height": 1000
        },
        "id": "kRkiMRXVoZ8w",
        "outputId": "29eeaba7-fe24-4199-c0eb-a7196b36d13b"
      },
      "source": [
        "# Visualize X examples.\r\n",
        "n = 10\r\n",
        "visualization_start_index = np.random.randint(0, len(X_test))\r\n",
        "\r\n",
        "fig, axes = plt.subplots(1 * n, 2)\r\n",
        "\r\n",
        "for i in range(n):\r\n",
        "    test_index = visualization_start_index + i\r\n",
        "    x_encoded = encoder.predict(X_test[test_index].reshape(1, -1))\r\n",
        "    x_predicted = decoder.predict(x_encoded)    \r\n",
        "\r\n",
        "    #Autoencoder results\r\n",
        "    ax_predicted = axes[i][0]\r\n",
        "    ax_predicted.imshow(x_predicted.reshape((28, 28)))\r\n",
        "    ax_predicted.title.set_text('Autoencoded image')\r\n",
        "    \r\n",
        "    #Actual image.\r\n",
        "    ax_original = axes[i][1]\r\n",
        "    ax_original.imshow(X_test[test_index].reshape((28, 28)))\r\n",
        "    ax_original.title.set_text('Original image')\r\n",
        "\r\n",
        "fig.set_size_inches(15, 15)\r\n",
        "plt.tight_layout()\r\n",
        "plt.show()"
      ],
      "execution_count": null,
      "outputs": [
        {
          "output_type": "display_data",
          "data": {
            "image/png": "[encoded data removed]",
            "text/plain": [
              "<Figure size 1080x1080 with 20 Axes>"
            ]
          },
          "metadata": {
            "tags": [],
            "needs_background": "light"
          }
        }
      ]
    },
    {
      "cell_type": "code",
      "metadata": {
        "id": "lP80QJanv-2Z"
      },
      "source": [
        "ae_test = full_model.predict(X_test)"
      ],
      "execution_count": null,
      "outputs": []
    },
    {
      "cell_type": "code",
      "metadata": {
        "id": "WdGdm-PGwGH_"
      },
      "source": [
        "ae_train = full_model.predict(X_train)"
      ],
      "execution_count": null,
      "outputs": []
    },
    {
      "cell_type": "code",
      "metadata": {
        "colab": {
          "base_uri": "https://localhost:8080/",
          "height": 338
        },
        "id": "8Mz_MtSPwKE6",
        "outputId": "c7196701-9858-43b8-fef6-de2e491a627b"
      },
      "source": [
        "ae_train = pd.DataFrame(ae_train)\r\n",
        "ae_test = pd.DataFrame(ae_test)\r\n",
        "\r\n",
        "ae_test.head()"
      ],
      "execution_count": null,
      "outputs": [
        {
          "output_type": "execute_result",
          "data": {
            "text/html": [
              "<div>\n",
              "<style scoped>\n",
              "    .dataframe tbody tr th:only-of-type {\n",
              "        vertical-align: middle;\n",
              "    }\n",
              "\n",
              "    .dataframe tbody tr th {\n",
              "        vertical-align: top;\n",
              "    }\n",
              "\n",
              "    .dataframe thead th {\n",
              "        text-align: right;\n",
              "    }\n",
              "</style>\n",
              "<table border=\"1\" class=\"dataframe\">\n",
              "  <thead>\n",
              "    <tr style=\"text-align: right;\">\n",
              "      <th></th>\n",
              "      <th>0</th>\n",
              "      <th>1</th>\n",
              "      <th>2</th>\n",
              "      <th>3</th>\n",
              "      <th>4</th>\n",
              "      <th>5</th>\n",
              "      <th>6</th>\n",
              "      <th>7</th>\n",
              "      <th>8</th>\n",
              "      <th>9</th>\n",
              "      <th>10</th>\n",
              "      <th>11</th>\n",
              "      <th>12</th>\n",
              "      <th>13</th>\n",
              "      <th>14</th>\n",
              "      <th>15</th>\n",
              "      <th>16</th>\n",
              "      <th>17</th>\n",
              "      <th>18</th>\n",
              "      <th>19</th>\n",
              "      <th>20</th>\n",
              "      <th>21</th>\n",
              "      <th>22</th>\n",
              "      <th>23</th>\n",
              "      <th>24</th>\n",
              "      <th>25</th>\n",
              "      <th>26</th>\n",
              "      <th>27</th>\n",
              "      <th>28</th>\n",
              "      <th>29</th>\n",
              "      <th>30</th>\n",
              "      <th>31</th>\n",
              "      <th>32</th>\n",
              "      <th>33</th>\n",
              "      <th>34</th>\n",
              "      <th>35</th>\n",
              "      <th>36</th>\n",
              "      <th>37</th>\n",
              "      <th>38</th>\n",
              "      <th>39</th>\n",
              "      <th>...</th>\n",
              "      <th>744</th>\n",
              "      <th>745</th>\n",
              "      <th>746</th>\n",
              "      <th>747</th>\n",
              "      <th>748</th>\n",
              "      <th>749</th>\n",
              "      <th>750</th>\n",
              "      <th>751</th>\n",
              "      <th>752</th>\n",
              "      <th>753</th>\n",
              "      <th>754</th>\n",
              "      <th>755</th>\n",
              "      <th>756</th>\n",
              "      <th>757</th>\n",
              "      <th>758</th>\n",
              "      <th>759</th>\n",
              "      <th>760</th>\n",
              "      <th>761</th>\n",
              "      <th>762</th>\n",
              "      <th>763</th>\n",
              "      <th>764</th>\n",
              "      <th>765</th>\n",
              "      <th>766</th>\n",
              "      <th>767</th>\n",
              "      <th>768</th>\n",
              "      <th>769</th>\n",
              "      <th>770</th>\n",
              "      <th>771</th>\n",
              "      <th>772</th>\n",
              "      <th>773</th>\n",
              "      <th>774</th>\n",
              "      <th>775</th>\n",
              "      <th>776</th>\n",
              "      <th>777</th>\n",
              "      <th>778</th>\n",
              "      <th>779</th>\n",
              "      <th>780</th>\n",
              "      <th>781</th>\n",
              "      <th>782</th>\n",
              "      <th>783</th>\n",
              "    </tr>\n",
              "  </thead>\n",
              "  <tbody>\n",
              "    <tr>\n",
              "      <th>0</th>\n",
              "      <td>1.171305e-09</td>\n",
              "      <td>6.376689e-09</td>\n",
              "      <td>3.055131e-09</td>\n",
              "      <td>2.216853e-09</td>\n",
              "      <td>1.477972e-08</td>\n",
              "      <td>3.464909e-09</td>\n",
              "      <td>8.418755e-09</td>\n",
              "      <td>1.724933e-09</td>\n",
              "      <td>2.557263e-09</td>\n",
              "      <td>7.357885e-09</td>\n",
              "      <td>1.679338e-09</td>\n",
              "      <td>1.521790e-08</td>\n",
              "      <td>3.563012e-09</td>\n",
              "      <td>3.918790e-09</td>\n",
              "      <td>3.909943e-09</td>\n",
              "      <td>8.460896e-06</td>\n",
              "      <td>9.081099e-09</td>\n",
              "      <td>4.235518e-09</td>\n",
              "      <td>8.707808e-09</td>\n",
              "      <td>1.958946e-09</td>\n",
              "      <td>1.686140e-08</td>\n",
              "      <td>1.468051e-08</td>\n",
              "      <td>1.714571e-09</td>\n",
              "      <td>8.223672e-09</td>\n",
              "      <td>3.944963e-09</td>\n",
              "      <td>6.630947e-09</td>\n",
              "      <td>5.955984e-09</td>\n",
              "      <td>6.574851e-10</td>\n",
              "      <td>1.068389e-08</td>\n",
              "      <td>1.567116e-09</td>\n",
              "      <td>3.203081e-09</td>\n",
              "      <td>3.111346e-08</td>\n",
              "      <td>2.295461e-09</td>\n",
              "      <td>1.198181e-08</td>\n",
              "      <td>2.190725e-09</td>\n",
              "      <td>7.696569e-09</td>\n",
              "      <td>2.620058e-10</td>\n",
              "      <td>2.815233e-09</td>\n",
              "      <td>1.514478e-09</td>\n",
              "      <td>4.120739e-08</td>\n",
              "      <td>...</td>\n",
              "      <td>3.691568e-19</td>\n",
              "      <td>1.234244e-19</td>\n",
              "      <td>6.650737e-19</td>\n",
              "      <td>1.074550e-17</td>\n",
              "      <td>2.963120e-15</td>\n",
              "      <td>6.500436e-13</td>\n",
              "      <td>3.570583e-13</td>\n",
              "      <td>7.488302e-11</td>\n",
              "      <td>1.650882e-09</td>\n",
              "      <td>4.871070e-10</td>\n",
              "      <td>1.037814e-08</td>\n",
              "      <td>1.057044e-09</td>\n",
              "      <td>1.650033e-08</td>\n",
              "      <td>1.451836e-09</td>\n",
              "      <td>1.684401e-08</td>\n",
              "      <td>1.428695e-09</td>\n",
              "      <td>4.349841e-10</td>\n",
              "      <td>1.923599e-11</td>\n",
              "      <td>6.911351e-14</td>\n",
              "      <td>4.914436e-18</td>\n",
              "      <td>9.814657e-18</td>\n",
              "      <td>2.564421e-18</td>\n",
              "      <td>1.504952e-21</td>\n",
              "      <td>6.177836e-24</td>\n",
              "      <td>4.920278e-22</td>\n",
              "      <td>1.766905e-22</td>\n",
              "      <td>7.467992e-26</td>\n",
              "      <td>7.240998e-23</td>\n",
              "      <td>4.618803e-24</td>\n",
              "      <td>1.017937e-20</td>\n",
              "      <td>1.101304e-18</td>\n",
              "      <td>1.125630e-17</td>\n",
              "      <td>3.079393e-16</td>\n",
              "      <td>3.352972e-14</td>\n",
              "      <td>1.048405e-11</td>\n",
              "      <td>1.206490e-11</td>\n",
              "      <td>3.179307e-09</td>\n",
              "      <td>1.923898e-09</td>\n",
              "      <td>2.149139e-09</td>\n",
              "      <td>7.785170e-09</td>\n",
              "    </tr>\n",
              "    <tr>\n",
              "      <th>1</th>\n",
              "      <td>8.142227e-10</td>\n",
              "      <td>2.493340e-09</td>\n",
              "      <td>7.826406e-10</td>\n",
              "      <td>2.021858e-09</td>\n",
              "      <td>1.302900e-08</td>\n",
              "      <td>1.966028e-09</td>\n",
              "      <td>5.002620e-09</td>\n",
              "      <td>4.172802e-10</td>\n",
              "      <td>1.889488e-09</td>\n",
              "      <td>2.389549e-09</td>\n",
              "      <td>1.592375e-08</td>\n",
              "      <td>2.307327e-08</td>\n",
              "      <td>1.056948e-15</td>\n",
              "      <td>2.419247e-17</td>\n",
              "      <td>5.478420e-16</td>\n",
              "      <td>3.010450e-10</td>\n",
              "      <td>1.279158e-08</td>\n",
              "      <td>3.786426e-08</td>\n",
              "      <td>7.235582e-09</td>\n",
              "      <td>7.941626e-09</td>\n",
              "      <td>2.917713e-09</td>\n",
              "      <td>2.246354e-09</td>\n",
              "      <td>6.882822e-09</td>\n",
              "      <td>1.098859e-08</td>\n",
              "      <td>1.630156e-08</td>\n",
              "      <td>1.606335e-08</td>\n",
              "      <td>3.427979e-09</td>\n",
              "      <td>1.821354e-09</td>\n",
              "      <td>4.039594e-09</td>\n",
              "      <td>1.400505e-09</td>\n",
              "      <td>2.227810e-09</td>\n",
              "      <td>2.075693e-08</td>\n",
              "      <td>5.463235e-09</td>\n",
              "      <td>6.448727e-10</td>\n",
              "      <td>3.773250e-14</td>\n",
              "      <td>3.973864e-13</td>\n",
              "      <td>7.715355e-12</td>\n",
              "      <td>5.179106e-11</td>\n",
              "      <td>4.141748e-11</td>\n",
              "      <td>1.729887e-11</td>\n",
              "      <td>...</td>\n",
              "      <td>2.493115e-10</td>\n",
              "      <td>4.455993e-10</td>\n",
              "      <td>2.287946e-10</td>\n",
              "      <td>2.682174e-11</td>\n",
              "      <td>1.802809e-11</td>\n",
              "      <td>4.252737e-12</td>\n",
              "      <td>4.263793e-11</td>\n",
              "      <td>4.286873e-10</td>\n",
              "      <td>2.470353e-09</td>\n",
              "      <td>1.041611e-09</td>\n",
              "      <td>1.773082e-08</td>\n",
              "      <td>2.020995e-08</td>\n",
              "      <td>4.746415e-09</td>\n",
              "      <td>9.875769e-09</td>\n",
              "      <td>1.037088e-08</td>\n",
              "      <td>4.138128e-09</td>\n",
              "      <td>3.813415e-09</td>\n",
              "      <td>3.136399e-09</td>\n",
              "      <td>5.424379e-10</td>\n",
              "      <td>1.579623e-10</td>\n",
              "      <td>2.227448e-10</td>\n",
              "      <td>4.221901e-10</td>\n",
              "      <td>8.242535e-12</td>\n",
              "      <td>1.685299e-13</td>\n",
              "      <td>2.790055e-13</td>\n",
              "      <td>3.396210e-15</td>\n",
              "      <td>2.401473e-17</td>\n",
              "      <td>6.014246e-14</td>\n",
              "      <td>2.828831e-15</td>\n",
              "      <td>5.863180e-15</td>\n",
              "      <td>5.542152e-16</td>\n",
              "      <td>1.827576e-13</td>\n",
              "      <td>1.967503e-12</td>\n",
              "      <td>8.669038e-11</td>\n",
              "      <td>2.319457e-12</td>\n",
              "      <td>1.170491e-10</td>\n",
              "      <td>8.030613e-09</td>\n",
              "      <td>8.804271e-09</td>\n",
              "      <td>6.861273e-09</td>\n",
              "      <td>7.495927e-09</td>\n",
              "    </tr>\n",
              "    <tr>\n",
              "      <th>2</th>\n",
              "      <td>4.725005e-06</td>\n",
              "      <td>5.122346e-06</td>\n",
              "      <td>3.331083e-06</td>\n",
              "      <td>9.441538e-06</td>\n",
              "      <td>1.140870e-06</td>\n",
              "      <td>6.637918e-06</td>\n",
              "      <td>3.293735e-06</td>\n",
              "      <td>3.423737e-06</td>\n",
              "      <td>3.296302e-06</td>\n",
              "      <td>1.578374e-05</td>\n",
              "      <td>5.712210e-06</td>\n",
              "      <td>9.426109e-06</td>\n",
              "      <td>1.880767e-05</td>\n",
              "      <td>1.145740e-06</td>\n",
              "      <td>7.226414e-08</td>\n",
              "      <td>1.172946e-05</td>\n",
              "      <td>3.353267e-06</td>\n",
              "      <td>1.307661e-06</td>\n",
              "      <td>1.455591e-06</td>\n",
              "      <td>3.551365e-06</td>\n",
              "      <td>4.243554e-06</td>\n",
              "      <td>8.806115e-06</td>\n",
              "      <td>1.031609e-05</td>\n",
              "      <td>3.818493e-06</td>\n",
              "      <td>2.492476e-06</td>\n",
              "      <td>1.046575e-05</td>\n",
              "      <td>5.202430e-06</td>\n",
              "      <td>1.705973e-06</td>\n",
              "      <td>4.333089e-06</td>\n",
              "      <td>2.585889e-06</td>\n",
              "      <td>4.136769e-06</td>\n",
              "      <td>1.632199e-06</td>\n",
              "      <td>2.790541e-06</td>\n",
              "      <td>6.818383e-06</td>\n",
              "      <td>4.771349e-07</td>\n",
              "      <td>2.504636e-07</td>\n",
              "      <td>3.295470e-11</td>\n",
              "      <td>2.524484e-12</td>\n",
              "      <td>5.663812e-14</td>\n",
              "      <td>3.722316e-12</td>\n",
              "      <td>...</td>\n",
              "      <td>5.086319e-06</td>\n",
              "      <td>1.223672e-06</td>\n",
              "      <td>1.491226e-05</td>\n",
              "      <td>4.529160e-05</td>\n",
              "      <td>1.215982e-05</td>\n",
              "      <td>2.847016e-04</td>\n",
              "      <td>1.834552e-05</td>\n",
              "      <td>4.299215e-05</td>\n",
              "      <td>1.183071e-06</td>\n",
              "      <td>3.212501e-05</td>\n",
              "      <td>1.592691e-06</td>\n",
              "      <td>2.103444e-06</td>\n",
              "      <td>1.220242e-06</td>\n",
              "      <td>4.803296e-06</td>\n",
              "      <td>2.621187e-05</td>\n",
              "      <td>1.569902e-05</td>\n",
              "      <td>2.181403e-06</td>\n",
              "      <td>7.928527e-07</td>\n",
              "      <td>1.722973e-07</td>\n",
              "      <td>3.988748e-09</td>\n",
              "      <td>1.553827e-09</td>\n",
              "      <td>2.111012e-08</td>\n",
              "      <td>2.215276e-07</td>\n",
              "      <td>3.212842e-08</td>\n",
              "      <td>2.555507e-09</td>\n",
              "      <td>1.625467e-09</td>\n",
              "      <td>6.343689e-10</td>\n",
              "      <td>4.068863e-09</td>\n",
              "      <td>8.196769e-09</td>\n",
              "      <td>5.981468e-07</td>\n",
              "      <td>1.314655e-05</td>\n",
              "      <td>2.835263e-07</td>\n",
              "      <td>3.715905e-07</td>\n",
              "      <td>4.663704e-08</td>\n",
              "      <td>1.215661e-07</td>\n",
              "      <td>5.666614e-07</td>\n",
              "      <td>1.279712e-05</td>\n",
              "      <td>1.838688e-06</td>\n",
              "      <td>4.358919e-06</td>\n",
              "      <td>1.394105e-06</td>\n",
              "    </tr>\n",
              "    <tr>\n",
              "      <th>3</th>\n",
              "      <td>6.902397e-09</td>\n",
              "      <td>6.739598e-09</td>\n",
              "      <td>1.250413e-08</td>\n",
              "      <td>4.508429e-08</td>\n",
              "      <td>2.064211e-09</td>\n",
              "      <td>2.170525e-08</td>\n",
              "      <td>3.523748e-08</td>\n",
              "      <td>1.028189e-08</td>\n",
              "      <td>6.186490e-09</td>\n",
              "      <td>1.742073e-07</td>\n",
              "      <td>1.553202e-08</td>\n",
              "      <td>1.151063e-08</td>\n",
              "      <td>4.131111e-08</td>\n",
              "      <td>5.284067e-07</td>\n",
              "      <td>2.699346e-08</td>\n",
              "      <td>6.739425e-07</td>\n",
              "      <td>5.372948e-09</td>\n",
              "      <td>9.731657e-09</td>\n",
              "      <td>2.087373e-08</td>\n",
              "      <td>8.824142e-09</td>\n",
              "      <td>1.728576e-08</td>\n",
              "      <td>5.793928e-09</td>\n",
              "      <td>1.839720e-08</td>\n",
              "      <td>3.509849e-08</td>\n",
              "      <td>1.751570e-08</td>\n",
              "      <td>1.413619e-08</td>\n",
              "      <td>5.663243e-09</td>\n",
              "      <td>1.315277e-08</td>\n",
              "      <td>1.621486e-08</td>\n",
              "      <td>4.606485e-09</td>\n",
              "      <td>6.958352e-09</td>\n",
              "      <td>3.952791e-08</td>\n",
              "      <td>1.600618e-08</td>\n",
              "      <td>4.301249e-07</td>\n",
              "      <td>8.217926e-07</td>\n",
              "      <td>1.786833e-07</td>\n",
              "      <td>3.473194e-09</td>\n",
              "      <td>3.726529e-08</td>\n",
              "      <td>2.019215e-08</td>\n",
              "      <td>3.263970e-06</td>\n",
              "      <td>...</td>\n",
              "      <td>2.004296e-03</td>\n",
              "      <td>5.170763e-03</td>\n",
              "      <td>9.737104e-03</td>\n",
              "      <td>5.016279e-02</td>\n",
              "      <td>4.664361e-04</td>\n",
              "      <td>6.627142e-03</td>\n",
              "      <td>1.785755e-04</td>\n",
              "      <td>2.020299e-04</td>\n",
              "      <td>1.954689e-07</td>\n",
              "      <td>1.585442e-06</td>\n",
              "      <td>1.555999e-08</td>\n",
              "      <td>1.801217e-08</td>\n",
              "      <td>7.558609e-09</td>\n",
              "      <td>3.168635e-08</td>\n",
              "      <td>6.482141e-08</td>\n",
              "      <td>4.589182e-09</td>\n",
              "      <td>9.451083e-09</td>\n",
              "      <td>2.465351e-08</td>\n",
              "      <td>1.425991e-07</td>\n",
              "      <td>9.288714e-07</td>\n",
              "      <td>9.818850e-05</td>\n",
              "      <td>4.221853e-06</td>\n",
              "      <td>6.398732e-08</td>\n",
              "      <td>1.562822e-08</td>\n",
              "      <td>2.644439e-07</td>\n",
              "      <td>8.546639e-08</td>\n",
              "      <td>2.141924e-09</td>\n",
              "      <td>7.774605e-07</td>\n",
              "      <td>1.994829e-06</td>\n",
              "      <td>6.578116e-05</td>\n",
              "      <td>1.486570e-03</td>\n",
              "      <td>6.291475e-07</td>\n",
              "      <td>6.162710e-06</td>\n",
              "      <td>1.746468e-07</td>\n",
              "      <td>1.040820e-07</td>\n",
              "      <td>8.359423e-09</td>\n",
              "      <td>1.307461e-08</td>\n",
              "      <td>6.788368e-08</td>\n",
              "      <td>4.784145e-08</td>\n",
              "      <td>3.670446e-09</td>\n",
              "    </tr>\n",
              "    <tr>\n",
              "      <th>4</th>\n",
              "      <td>1.228058e-09</td>\n",
              "      <td>7.629652e-10</td>\n",
              "      <td>2.114872e-09</td>\n",
              "      <td>2.482889e-10</td>\n",
              "      <td>1.028976e-09</td>\n",
              "      <td>9.317979e-10</td>\n",
              "      <td>1.142192e-09</td>\n",
              "      <td>5.717551e-10</td>\n",
              "      <td>6.273144e-10</td>\n",
              "      <td>2.654901e-09</td>\n",
              "      <td>1.075492e-09</td>\n",
              "      <td>5.449321e-09</td>\n",
              "      <td>5.273464e-11</td>\n",
              "      <td>2.516020e-11</td>\n",
              "      <td>4.317900e-14</td>\n",
              "      <td>1.206430e-08</td>\n",
              "      <td>1.730165e-09</td>\n",
              "      <td>3.362066e-10</td>\n",
              "      <td>3.748212e-09</td>\n",
              "      <td>4.445380e-11</td>\n",
              "      <td>3.339182e-09</td>\n",
              "      <td>5.755660e-10</td>\n",
              "      <td>7.329354e-09</td>\n",
              "      <td>1.617065e-09</td>\n",
              "      <td>7.063846e-09</td>\n",
              "      <td>1.509762e-09</td>\n",
              "      <td>4.949194e-10</td>\n",
              "      <td>5.912847e-09</td>\n",
              "      <td>7.396930e-10</td>\n",
              "      <td>5.599656e-09</td>\n",
              "      <td>1.171978e-09</td>\n",
              "      <td>1.271951e-10</td>\n",
              "      <td>5.098299e-10</td>\n",
              "      <td>1.415048e-09</td>\n",
              "      <td>2.763436e-13</td>\n",
              "      <td>1.168146e-13</td>\n",
              "      <td>4.486274e-15</td>\n",
              "      <td>1.030193e-10</td>\n",
              "      <td>8.015982e-13</td>\n",
              "      <td>6.659970e-10</td>\n",
              "      <td>...</td>\n",
              "      <td>1.029317e-25</td>\n",
              "      <td>1.387831e-25</td>\n",
              "      <td>4.885414e-23</td>\n",
              "      <td>3.195378e-22</td>\n",
              "      <td>6.067901e-23</td>\n",
              "      <td>1.929872e-19</td>\n",
              "      <td>1.966238e-20</td>\n",
              "      <td>9.202242e-17</td>\n",
              "      <td>5.763853e-11</td>\n",
              "      <td>2.810198e-11</td>\n",
              "      <td>1.956000e-09</td>\n",
              "      <td>1.139485e-08</td>\n",
              "      <td>2.854999e-09</td>\n",
              "      <td>4.903821e-09</td>\n",
              "      <td>1.078614e-09</td>\n",
              "      <td>7.997343e-11</td>\n",
              "      <td>3.924495e-10</td>\n",
              "      <td>6.165739e-15</td>\n",
              "      <td>1.597671e-17</td>\n",
              "      <td>1.375306e-15</td>\n",
              "      <td>1.439709e-15</td>\n",
              "      <td>8.715233e-17</td>\n",
              "      <td>3.762312e-18</td>\n",
              "      <td>4.370964e-22</td>\n",
              "      <td>3.789714e-23</td>\n",
              "      <td>3.588385e-23</td>\n",
              "      <td>1.063262e-20</td>\n",
              "      <td>2.394272e-19</td>\n",
              "      <td>1.751436e-23</td>\n",
              "      <td>2.782827e-24</td>\n",
              "      <td>1.156173e-22</td>\n",
              "      <td>1.138411e-18</td>\n",
              "      <td>1.097517e-18</td>\n",
              "      <td>4.366078e-16</td>\n",
              "      <td>6.906979e-17</td>\n",
              "      <td>1.115777e-14</td>\n",
              "      <td>4.900941e-09</td>\n",
              "      <td>4.115498e-09</td>\n",
              "      <td>1.849411e-09</td>\n",
              "      <td>9.671735e-10</td>\n",
              "    </tr>\n",
              "  </tbody>\n",
              "</table>\n",
              "<p>5 rows × 784 columns</p>\n",
              "</div>"
            ],
            "text/plain": [
              "            0             1    ...           782           783\n",
              "0  1.171305e-09  6.376689e-09  ...  2.149139e-09  7.785170e-09\n",
              "1  8.142227e-10  2.493340e-09  ...  6.861273e-09  7.495927e-09\n",
              "2  4.725005e-06  5.122346e-06  ...  4.358919e-06  1.394105e-06\n",
              "3  6.902397e-09  6.739598e-09  ...  4.784145e-08  3.670446e-09\n",
              "4  1.228058e-09  7.629652e-10  ...  1.849411e-09  9.671735e-10\n",
              "\n",
              "[5 rows x 784 columns]"
            ]
          },
          "metadata": {
            "tags": []
          },
          "execution_count": 18
        }
      ]
    },
    {
      "cell_type": "code",
      "metadata": {
        "colab": {
          "base_uri": "https://localhost:8080/"
        },
        "id": "wwe2VvQ0xxXC",
        "outputId": "427dbb89-999b-4078-a8c8-62609bb42224"
      },
      "source": [
        "train = pd.read_csv('train.csv')\r\n",
        "y_train = train['label']\r\n",
        "\r\n",
        "ae_train.shape, y_train.shape, ae_test.shape"
      ],
      "execution_count": null,
      "outputs": [
        {
          "output_type": "execute_result",
          "data": {
            "text/plain": [
              "((42000, 784), (42000,), (28000, 784))"
            ]
          },
          "metadata": {
            "tags": []
          },
          "execution_count": 19
        }
      ]
    },
    {
      "cell_type": "code",
      "metadata": {
        "id": "4ntfjKEBxz_f"
      },
      "source": [
        "#Split train data to run through Random Classifier\r\n",
        "from sklearn.model_selection import train_test_split\r\n",
        "X_train_RC, X_test_RC, y_train_RC, y_test_RC = train_test_split(ae_train.values, y_train, test_size = 0.2, random_state= 42)"
      ],
      "execution_count": null,
      "outputs": []
    },
    {
      "cell_type": "code",
      "metadata": {
        "id": "whD6liuLyDUK"
      },
      "source": [
        "RANDOM_SEED = 1"
      ],
      "execution_count": null,
      "outputs": []
    },
    {
      "cell_type": "code",
      "metadata": {
        "colab": {
          "base_uri": "https://localhost:8080/"
        },
        "id": "kDzYMZRJyE8L",
        "outputId": "2948a9d1-6017-41e9-ad56-f063695e8ecc"
      },
      "source": [
        "%%time\r\n",
        "\r\n",
        "import time\r\n",
        "\r\n",
        "# create an empty list to store time results\r\n",
        "rf_time = []\r\n",
        "\r\n",
        "#fit a Random Forest Classifier onto the training set\r\n",
        "from sklearn.ensemble import RandomForestClassifier\r\n",
        "\r\n",
        "start_time = time.clock()\r\n",
        "rf_clf = RandomForestClassifier(max_features = 'sqrt', n_estimators=10, bootstrap=True, random_state=RANDOM_SEED)\r\n",
        "rf_clf.fit(X_train_RC,y_train_RC)\r\n",
        "end_time = time.clock()\r\n",
        "\r\n",
        "runtime = end_time - start_time\r\n",
        "\r\n",
        "#append the results to the list\r\n",
        "rf_time.append(runtime)"
      ],
      "execution_count": null,
      "outputs": [
        {
          "output_type": "stream",
          "text": [
            "/usr/local/lib/python3.7/dist-packages/ipykernel_launcher.py:10: DeprecationWarning: time.clock has been deprecated in Python 3.3 and will be removed from Python 3.8: use time.perf_counter or time.process_time instead\n",
            "  # Remove the CWD from sys.path while we load stuff.\n"
          ],
          "name": "stderr"
        },
        {
          "output_type": "stream",
          "text": [
            "CPU times: user 10.8 s, sys: 25.5 ms, total: 10.9 s\n",
            "Wall time: 11 s\n"
          ],
          "name": "stdout"
        },
        {
          "output_type": "stream",
          "text": [
            "/usr/local/lib/python3.7/dist-packages/ipykernel_launcher.py:13: DeprecationWarning: time.clock has been deprecated in Python 3.3 and will be removed from Python 3.8: use time.perf_counter or time.process_time instead\n",
            "  del sys.path[0]\n"
          ],
          "name": "stderr"
        }
      ]
    },
    {
      "cell_type": "code",
      "metadata": {
        "id": "KIkxZa8XyMTt"
      },
      "source": [
        "y_pred_RC = rf_clf.predict(X_test_RC)"
      ],
      "execution_count": null,
      "outputs": []
    },
    {
      "cell_type": "code",
      "metadata": {
        "colab": {
          "base_uri": "https://localhost:8080/"
        },
        "id": "0cPto1OVyO89",
        "outputId": "344e8b84-0492-4ff6-accb-915fc63cfbe6"
      },
      "source": [
        "from sklearn.metrics import classification_report\r\n",
        "\r\n",
        "print(\"Random Forest Classification Report: \\n{}\".format(classification_report(y_test_RC, y_pred_RC)))"
      ],
      "execution_count": null,
      "outputs": [
        {
          "output_type": "stream",
          "text": [
            "Random Forest Classification Report: \n",
            "              precision    recall  f1-score   support\n",
            "\n",
            "           0       0.96      0.98      0.97       816\n",
            "           1       0.98      0.99      0.98       909\n",
            "           2       0.93      0.96      0.94       846\n",
            "           3       0.92      0.93      0.92       937\n",
            "           4       0.94      0.94      0.94       839\n",
            "           5       0.94      0.92      0.93       702\n",
            "           6       0.96      0.96      0.96       785\n",
            "           7       0.96      0.95      0.95       893\n",
            "           8       0.95      0.94      0.95       835\n",
            "           9       0.93      0.92      0.92       838\n",
            "\n",
            "    accuracy                           0.95      8400\n",
            "   macro avg       0.95      0.95      0.95      8400\n",
            "weighted avg       0.95      0.95      0.95      8400\n",
            "\n"
          ],
          "name": "stdout"
        }
      ]
    },
    {
      "cell_type": "code",
      "metadata": {
        "id": "6zVeAOy3yQVG"
      },
      "source": [
        "y_ae_test = rf_clf.predict(ae_test)"
      ],
      "execution_count": null,
      "outputs": []
    },
    {
      "cell_type": "code",
      "metadata": {
        "colab": {
          "base_uri": "https://localhost:8080/",
          "height": 362
        },
        "id": "bI0vvBFtyTnl",
        "outputId": "163aac77-1c0c-4d9b-835b-7ecf44a8684f"
      },
      "source": [
        "# test random forest classifier on autoencoded values\r\n",
        "rows = 5 \r\n",
        "cols = 10 \r\n",
        "\r\n",
        "f = plt.figure(figsize=(2*cols,2*rows))\r\n",
        "\r\n",
        "for i in range(rows*cols): \r\n",
        "    f.add_subplot(rows,cols,i+1)\r\n",
        "    plt.imshow(ae_test.values[i].reshape([28,28]),cmap=\"Blues\") \r\n",
        "    plt.axis(\"off\")\r\n",
        "    plt.title(str(y_ae_test[i]), y=-0.15,color=\"green\")"
      ],
      "execution_count": null,
      "outputs": [
        {
          "output_type": "display_data",
          "data": {
            "image/png": "[encoded data removed]",
            "text/plain": [
              "<Figure size 1440x720 with 50 Axes>"
            ]
          },
          "metadata": {
            "tags": [],
            "needs_background": "light"
          }
        }
      ]
    }
  ]
}